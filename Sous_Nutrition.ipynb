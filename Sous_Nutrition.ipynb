{
 "cells": [
  {
   "cell_type": "code",
   "execution_count": 1,
   "id": "1060660e",
   "metadata": {},
   "outputs": [],
   "source": [
    "import numpy as np\n",
    "import pandas as pd"
   ]
  },
  {
   "cell_type": "code",
   "execution_count": 2,
   "id": "602f9963",
   "metadata": {},
   "outputs": [],
   "source": [
    "datanutri = pd.read_csv(\"../Data/raw_data/sous_nutrition.csv\")"
   ]
  },
  {
   "cell_type": "code",
   "execution_count": 3,
   "id": "992ba2c5",
   "metadata": {},
   "outputs": [
    {
     "data": {
      "text/html": [
       "<div>\n",
       "<style scoped>\n",
       "    .dataframe tbody tr th:only-of-type {\n",
       "        vertical-align: middle;\n",
       "    }\n",
       "\n",
       "    .dataframe tbody tr th {\n",
       "        vertical-align: top;\n",
       "    }\n",
       "\n",
       "    .dataframe thead th {\n",
       "        text-align: right;\n",
       "    }\n",
       "</style>\n",
       "<table border=\"1\" class=\"dataframe\">\n",
       "  <thead>\n",
       "    <tr style=\"text-align: right;\">\n",
       "      <th></th>\n",
       "      <th>Zone</th>\n",
       "      <th>Année</th>\n",
       "      <th>Valeur</th>\n",
       "    </tr>\n",
       "  </thead>\n",
       "  <tbody>\n",
       "    <tr>\n",
       "      <th>0</th>\n",
       "      <td>Afghanistan</td>\n",
       "      <td>2012-2014</td>\n",
       "      <td>8.6</td>\n",
       "    </tr>\n",
       "    <tr>\n",
       "      <th>1</th>\n",
       "      <td>Afghanistan</td>\n",
       "      <td>2013-2015</td>\n",
       "      <td>8.8</td>\n",
       "    </tr>\n",
       "    <tr>\n",
       "      <th>2</th>\n",
       "      <td>Afghanistan</td>\n",
       "      <td>2014-2016</td>\n",
       "      <td>8.9</td>\n",
       "    </tr>\n",
       "    <tr>\n",
       "      <th>3</th>\n",
       "      <td>Afghanistan</td>\n",
       "      <td>2015-2017</td>\n",
       "      <td>9.7</td>\n",
       "    </tr>\n",
       "    <tr>\n",
       "      <th>4</th>\n",
       "      <td>Afghanistan</td>\n",
       "      <td>2016-2018</td>\n",
       "      <td>10.5</td>\n",
       "    </tr>\n",
       "    <tr>\n",
       "      <th>...</th>\n",
       "      <td>...</td>\n",
       "      <td>...</td>\n",
       "      <td>...</td>\n",
       "    </tr>\n",
       "    <tr>\n",
       "      <th>1213</th>\n",
       "      <td>Zimbabwe</td>\n",
       "      <td>2013-2015</td>\n",
       "      <td>NaN</td>\n",
       "    </tr>\n",
       "    <tr>\n",
       "      <th>1214</th>\n",
       "      <td>Zimbabwe</td>\n",
       "      <td>2014-2016</td>\n",
       "      <td>NaN</td>\n",
       "    </tr>\n",
       "    <tr>\n",
       "      <th>1215</th>\n",
       "      <td>Zimbabwe</td>\n",
       "      <td>2015-2017</td>\n",
       "      <td>NaN</td>\n",
       "    </tr>\n",
       "    <tr>\n",
       "      <th>1216</th>\n",
       "      <td>Zimbabwe</td>\n",
       "      <td>2016-2018</td>\n",
       "      <td>NaN</td>\n",
       "    </tr>\n",
       "    <tr>\n",
       "      <th>1217</th>\n",
       "      <td>Zimbabwe</td>\n",
       "      <td>2017-2019</td>\n",
       "      <td>NaN</td>\n",
       "    </tr>\n",
       "  </tbody>\n",
       "</table>\n",
       "<p>1218 rows × 3 columns</p>\n",
       "</div>"
      ],
      "text/plain": [
       "             Zone      Année Valeur\n",
       "0     Afghanistan  2012-2014    8.6\n",
       "1     Afghanistan  2013-2015    8.8\n",
       "2     Afghanistan  2014-2016    8.9\n",
       "3     Afghanistan  2015-2017    9.7\n",
       "4     Afghanistan  2016-2018   10.5\n",
       "...           ...        ...    ...\n",
       "1213     Zimbabwe  2013-2015    NaN\n",
       "1214     Zimbabwe  2014-2016    NaN\n",
       "1215     Zimbabwe  2015-2017    NaN\n",
       "1216     Zimbabwe  2016-2018    NaN\n",
       "1217     Zimbabwe  2017-2019    NaN\n",
       "\n",
       "[1218 rows x 3 columns]"
      ]
     },
     "execution_count": 3,
     "metadata": {},
     "output_type": "execute_result"
    }
   ],
   "source": [
    "datanutri"
   ]
  },
  {
   "cell_type": "code",
   "execution_count": 4,
   "id": "c17ffb85",
   "metadata": {},
   "outputs": [],
   "source": [
    "datanutri = datanutri.rename(columns={'Zone':'Pays','Année':'Annee','Valeur': 'Population'})"
   ]
  },
  {
   "cell_type": "code",
   "execution_count": 5,
   "id": "d84173fd",
   "metadata": {},
   "outputs": [
    {
     "data": {
      "text/html": [
       "<div>\n",
       "<style scoped>\n",
       "    .dataframe tbody tr th:only-of-type {\n",
       "        vertical-align: middle;\n",
       "    }\n",
       "\n",
       "    .dataframe tbody tr th {\n",
       "        vertical-align: top;\n",
       "    }\n",
       "\n",
       "    .dataframe thead th {\n",
       "        text-align: right;\n",
       "    }\n",
       "</style>\n",
       "<table border=\"1\" class=\"dataframe\">\n",
       "  <thead>\n",
       "    <tr style=\"text-align: right;\">\n",
       "      <th></th>\n",
       "      <th>Pays</th>\n",
       "      <th>Annee</th>\n",
       "      <th>Population</th>\n",
       "    </tr>\n",
       "  </thead>\n",
       "  <tbody>\n",
       "    <tr>\n",
       "      <th>0</th>\n",
       "      <td>Afghanistan</td>\n",
       "      <td>2012-2014</td>\n",
       "      <td>8.6</td>\n",
       "    </tr>\n",
       "    <tr>\n",
       "      <th>1</th>\n",
       "      <td>Afghanistan</td>\n",
       "      <td>2013-2015</td>\n",
       "      <td>8.8</td>\n",
       "    </tr>\n",
       "    <tr>\n",
       "      <th>2</th>\n",
       "      <td>Afghanistan</td>\n",
       "      <td>2014-2016</td>\n",
       "      <td>8.9</td>\n",
       "    </tr>\n",
       "    <tr>\n",
       "      <th>3</th>\n",
       "      <td>Afghanistan</td>\n",
       "      <td>2015-2017</td>\n",
       "      <td>9.7</td>\n",
       "    </tr>\n",
       "    <tr>\n",
       "      <th>4</th>\n",
       "      <td>Afghanistan</td>\n",
       "      <td>2016-2018</td>\n",
       "      <td>10.5</td>\n",
       "    </tr>\n",
       "    <tr>\n",
       "      <th>...</th>\n",
       "      <td>...</td>\n",
       "      <td>...</td>\n",
       "      <td>...</td>\n",
       "    </tr>\n",
       "    <tr>\n",
       "      <th>1213</th>\n",
       "      <td>Zimbabwe</td>\n",
       "      <td>2013-2015</td>\n",
       "      <td>NaN</td>\n",
       "    </tr>\n",
       "    <tr>\n",
       "      <th>1214</th>\n",
       "      <td>Zimbabwe</td>\n",
       "      <td>2014-2016</td>\n",
       "      <td>NaN</td>\n",
       "    </tr>\n",
       "    <tr>\n",
       "      <th>1215</th>\n",
       "      <td>Zimbabwe</td>\n",
       "      <td>2015-2017</td>\n",
       "      <td>NaN</td>\n",
       "    </tr>\n",
       "    <tr>\n",
       "      <th>1216</th>\n",
       "      <td>Zimbabwe</td>\n",
       "      <td>2016-2018</td>\n",
       "      <td>NaN</td>\n",
       "    </tr>\n",
       "    <tr>\n",
       "      <th>1217</th>\n",
       "      <td>Zimbabwe</td>\n",
       "      <td>2017-2019</td>\n",
       "      <td>NaN</td>\n",
       "    </tr>\n",
       "  </tbody>\n",
       "</table>\n",
       "<p>1218 rows × 3 columns</p>\n",
       "</div>"
      ],
      "text/plain": [
       "             Pays      Annee Population\n",
       "0     Afghanistan  2012-2014        8.6\n",
       "1     Afghanistan  2013-2015        8.8\n",
       "2     Afghanistan  2014-2016        8.9\n",
       "3     Afghanistan  2015-2017        9.7\n",
       "4     Afghanistan  2016-2018       10.5\n",
       "...           ...        ...        ...\n",
       "1213     Zimbabwe  2013-2015        NaN\n",
       "1214     Zimbabwe  2014-2016        NaN\n",
       "1215     Zimbabwe  2015-2017        NaN\n",
       "1216     Zimbabwe  2016-2018        NaN\n",
       "1217     Zimbabwe  2017-2019        NaN\n",
       "\n",
       "[1218 rows x 3 columns]"
      ]
     },
     "execution_count": 5,
     "metadata": {},
     "output_type": "execute_result"
    }
   ],
   "source": [
    "datanutri"
   ]
  },
  {
   "cell_type": "code",
   "execution_count": 6,
   "id": "28badbbe",
   "metadata": {},
   "outputs": [
    {
     "data": {
      "text/plain": [
       "array(['Afghanistan', 'Afrique du Sud', 'Albanie', 'Algérie', 'Allemagne',\n",
       "       'Andorre', 'Angola', 'Antigua-et-Barbuda', 'Arabie saoudite',\n",
       "       'Argentine', 'Arménie', 'Australie', 'Autriche', 'Azerbaïdjan',\n",
       "       'Bahamas', 'Bahreïn', 'Bangladesh', 'Barbade', 'Bélarus',\n",
       "       'Belgique', 'Belize', 'Bénin', 'Bermudes', 'Bhoutan',\n",
       "       'Bolivie (État plurinational de)', 'Bosnie-Herzégovine',\n",
       "       'Botswana', 'Brésil', 'Brunéi Darussalam', 'Bulgarie',\n",
       "       'Burkina Faso', 'Burundi', 'Cabo Verde', 'Cambodge', 'Cameroun',\n",
       "       'Canada', 'Chili', 'Chine - RAS de Hong-Kong',\n",
       "       'Chine - RAS de Macao', 'Chine, continentale',\n",
       "       'Chine, Taiwan Province de', 'Chypre', 'Colombie', 'Comores',\n",
       "       'Congo', 'Costa Rica', \"Côte d'Ivoire\", 'Croatie', 'Cuba',\n",
       "       'Danemark', 'Djibouti', 'Dominique', 'Égypte', 'El Salvador',\n",
       "       'Émirats arabes unis', 'Équateur', 'Érythrée', 'Espagne',\n",
       "       'Estonie', 'Eswatini', \"États-Unis d'Amérique\", 'Éthiopie',\n",
       "       'Fédération de Russie', 'Fidji', 'Finlande', 'France', 'Gabon',\n",
       "       'Gambie', 'Géorgie', 'Ghana', 'Grèce', 'Grenade', 'Groenland',\n",
       "       'Guatemala', 'Guinée', 'Guinée équatoriale', 'Guinée-Bissau',\n",
       "       'Guyana', 'Haïti', 'Honduras', 'Hongrie', 'Îles Cook',\n",
       "       'Îles Marshall', 'Îles Salomon', 'Inde', 'Indonésie',\n",
       "       \"Iran (République islamique d')\", 'Iraq', 'Irlande', 'Islande',\n",
       "       'Israël', 'Italie', 'Jamaïque', 'Japon', 'Jordanie', 'Kazakhstan',\n",
       "       'Kenya', 'Kirghizistan', 'Kiribati', 'Koweït', 'Lesotho',\n",
       "       'Lettonie', 'Liban', 'Libéria', 'Libye', 'Lituanie', 'Luxembourg',\n",
       "       'Macédoine du Nord', 'Madagascar', 'Malaisie', 'Malawi',\n",
       "       'Maldives', 'Mali', 'Malte', 'Maroc', 'Maurice', 'Mauritanie',\n",
       "       'Mexique', 'Micronésie (États fédérés de)', 'Mongolie',\n",
       "       'Monténégro', 'Mozambique', 'Myanmar', 'Namibie', 'Nauru', 'Népal',\n",
       "       'Nicaragua', 'Niger', 'Nigéria', 'Nioué', 'Norvège',\n",
       "       'Nouvelle-Calédonie', 'Nouvelle-Zélande', 'Oman', 'Ouganda',\n",
       "       'Ouzbékistan', 'Pakistan', 'Palaos', 'Palestine', 'Panama',\n",
       "       'Papouasie-Nouvelle-Guinée', 'Paraguay', 'Pays-Bas', 'Pérou',\n",
       "       'Philippines', 'Pologne', 'Polynésie française', 'Porto Rico',\n",
       "       'Portugal', 'Qatar', 'République arabe syrienne',\n",
       "       'République centrafricaine', 'République de Corée',\n",
       "       'République de Moldova', 'République démocratique du Congo',\n",
       "       'République démocratique populaire lao', 'République dominicaine',\n",
       "       'République populaire démocratique de Corée',\n",
       "       'République-Unie de Tanzanie', 'Roumanie',\n",
       "       \"Royaume-Uni de Grande-Bretagne et d'Irlande du Nord\", 'Rwanda',\n",
       "       'Sainte-Lucie', 'Saint-Kitts-et-Nevis',\n",
       "       'Saint-Vincent-et-les Grenadines', 'Samoa', 'Samoa américaines',\n",
       "       'Sao Tomé-et-Principe', 'Sénégal', 'Serbie', 'Seychelles',\n",
       "       'Sierra Leone', 'Singapour', 'Slovaquie', 'Slovénie', 'Somalie',\n",
       "       'Soudan', 'Soudan du Sud', 'Sri Lanka', 'Suède', 'Suisse',\n",
       "       'Suriname', 'Tadjikistan', 'Tchad', 'Tchéquie', 'Thaïlande',\n",
       "       'Timor-Leste', 'Togo', 'Tokélaou', 'Tonga', 'Trinité-et-Tobago',\n",
       "       'Tunisie', 'Turkménistan', 'Turquie', 'Tuvalu', 'Ukraine',\n",
       "       'Uruguay', 'Vanuatu', 'Venezuela (République bolivarienne du)',\n",
       "       'Viet Nam', 'Yémen', 'Zambie', 'Zimbabwe'], dtype=object)"
      ]
     },
     "execution_count": 6,
     "metadata": {},
     "output_type": "execute_result"
    }
   ],
   "source": [
    "datanutri.Pays.unique()"
   ]
  },
  {
   "cell_type": "code",
   "execution_count": 7,
   "id": "6c4cd1c8",
   "metadata": {},
   "outputs": [
    {
     "data": {
      "text/plain": [
       "array(['2012-2014', '2013-2015', '2014-2016', '2015-2017', '2016-2018',\n",
       "       '2017-2019'], dtype=object)"
      ]
     },
     "execution_count": 7,
     "metadata": {},
     "output_type": "execute_result"
    }
   ],
   "source": [
    "datanutri.Annee.unique()"
   ]
  },
  {
   "cell_type": "code",
   "execution_count": 8,
   "id": "38de6bf5",
   "metadata": {},
   "outputs": [
    {
     "data": {
      "text/plain": [
       "array(['8.6', '8.8', '8.9', '9.7', '10.5', '11.1', '2.2', '2.5', '2.8',\n",
       "       '3', '3.1', '3.3', '0.1', '1.3', '1.2', nan, '7.6', '6.2', '5.3',\n",
       "       '5.6', '5.8', '5.7', '1.5', '1.6', '1.1', '1.7', '<0.1', '21.7',\n",
       "       '22.4', '23.3', '22.3', '21.5', '20.9', '0.8', '2', '1.9', '1.8',\n",
       "       '0.4', '0.5', '0.3', '0.2', '3.2', '3.4', '3.6', '3.8', '2.1',\n",
       "       '2.3', '2.4', '0.6', '0.7', '0.9', '3.9', '2.7', '1.4', '4.8',\n",
       "       '4.6', '4.9', '5', '4.4', '4.3', '4.2', '4.5', '26.2', '24.3',\n",
       "       '21.3', '21.1', '2.9', '5.1', '5.2', '5.4', '203.8', '198.3',\n",
       "       '193.1', '190.9', '190.1', '189.2', '23.6', '24', '24.1', '3.7',\n",
       "       '7.3', '7.8', '8.4', '9', '9.1', '10.1', '10', '10.7', '11.5',\n",
       "       '11.9', '11.8', '8.7', '10.3', '11', '1', '5.5', '6.8', '7.9',\n",
       "       '5.9', '7', '9.2', '9.4', '9.6', '6.7', '7.1', '7.2', '14.7',\n",
       "       '17.4', '20.2', '22.2', '22.8', '24.6', '31.1', '28.5', '25.4',\n",
       "       '24.8', '26.1', '14.5', '15.4', '16.5', '15.8', '15.7', '10.8',\n",
       "       '11.2', '11.6', '12', '12.2', '13.5', '13.2', '12.8', '13', '13.4',\n",
       "       '14.1', '4.1', '6.1', '6', '6.5', '2.6', '8', '8.3'], dtype=object)"
      ]
     },
     "execution_count": 8,
     "metadata": {},
     "output_type": "execute_result"
    }
   ],
   "source": [
    "datanutri.Population.unique()"
   ]
  },
  {
   "cell_type": "code",
   "execution_count": 9,
   "id": "bef8122c",
   "metadata": {},
   "outputs": [],
   "source": [
    "datanutri = datanutri.replace('<0.1', '0.05')"
   ]
  },
  {
   "cell_type": "code",
   "execution_count": 10,
   "id": "d05f8afd",
   "metadata": {},
   "outputs": [],
   "source": [
    "datanutri = datanutri.fillna(0)"
   ]
  },
  {
   "cell_type": "code",
   "execution_count": 11,
   "id": "0deb18b9",
   "metadata": {},
   "outputs": [
    {
     "data": {
      "text/plain": [
       "array(['8.6', '8.8', '8.9', '9.7', '10.5', '11.1', '2.2', '2.5', '2.8',\n",
       "       '3', '3.1', '3.3', '0.1', '1.3', '1.2', 0, '7.6', '6.2', '5.3',\n",
       "       '5.6', '5.8', '5.7', '1.5', '1.6', '1.1', '1.7', '0.05', '21.7',\n",
       "       '22.4', '23.3', '22.3', '21.5', '20.9', '0.8', '2', '1.9', '1.8',\n",
       "       '0.4', '0.5', '0.3', '0.2', '3.2', '3.4', '3.6', '3.8', '2.1',\n",
       "       '2.3', '2.4', '0.6', '0.7', '0.9', '3.9', '2.7', '1.4', '4.8',\n",
       "       '4.6', '4.9', '5', '4.4', '4.3', '4.2', '4.5', '26.2', '24.3',\n",
       "       '21.3', '21.1', '2.9', '5.1', '5.2', '5.4', '203.8', '198.3',\n",
       "       '193.1', '190.9', '190.1', '189.2', '23.6', '24', '24.1', '3.7',\n",
       "       '7.3', '7.8', '8.4', '9', '9.1', '10.1', '10', '10.7', '11.5',\n",
       "       '11.9', '11.8', '8.7', '10.3', '11', '1', '5.5', '6.8', '7.9',\n",
       "       '5.9', '7', '9.2', '9.4', '9.6', '6.7', '7.1', '7.2', '14.7',\n",
       "       '17.4', '20.2', '22.2', '22.8', '24.6', '31.1', '28.5', '25.4',\n",
       "       '24.8', '26.1', '14.5', '15.4', '16.5', '15.8', '15.7', '10.8',\n",
       "       '11.2', '11.6', '12', '12.2', '13.5', '13.2', '12.8', '13', '13.4',\n",
       "       '14.1', '4.1', '6.1', '6', '6.5', '2.6', '8', '8.3'], dtype=object)"
      ]
     },
     "execution_count": 11,
     "metadata": {},
     "output_type": "execute_result"
    }
   ],
   "source": [
    "datanutri.Population.unique()"
   ]
  },
  {
   "cell_type": "code",
   "execution_count": 12,
   "id": "cb9bf30c",
   "metadata": {},
   "outputs": [],
   "source": [
    "datanutri['Annee'] = datanutri['Annee'].map({'2012-2014':'2013','2013-2015':'2014','2014-2016':'2015','2015-2017':'2016','2016-2018':'2017','2017-2019':'2018'})"
   ]
  },
  {
   "cell_type": "code",
   "execution_count": 13,
   "id": "857fdb48",
   "metadata": {},
   "outputs": [
    {
     "name": "stdout",
     "output_type": "stream",
     "text": [
      "<class 'pandas.core.frame.DataFrame'>\n",
      "RangeIndex: 1218 entries, 0 to 1217\n",
      "Data columns (total 3 columns):\n",
      " #   Column      Non-Null Count  Dtype \n",
      "---  ------      --------------  ----- \n",
      " 0   Pays        1218 non-null   object\n",
      " 1   Annee       1218 non-null   object\n",
      " 2   Population  1218 non-null   object\n",
      "dtypes: object(3)\n",
      "memory usage: 28.7+ KB\n"
     ]
    }
   ],
   "source": [
    "datanutri.info()"
   ]
  },
  {
   "cell_type": "code",
   "execution_count": 14,
   "id": "2088a949",
   "metadata": {},
   "outputs": [],
   "source": [
    "datanutri['Population'] = datanutri['Population'].astype(float)"
   ]
  },
  {
   "cell_type": "code",
   "execution_count": 15,
   "id": "8b7be71e",
   "metadata": {},
   "outputs": [],
   "source": [
    "datanutri.Population = datanutri.Population*1000000"
   ]
  },
  {
   "cell_type": "code",
   "execution_count": 16,
   "id": "61f567af",
   "metadata": {},
   "outputs": [],
   "source": [
    "datanutri['Population'] = datanutri['Population'].astype(int)"
   ]
  },
  {
   "cell_type": "code",
   "execution_count": 17,
   "id": "ea76c160",
   "metadata": {},
   "outputs": [
    {
     "data": {
      "text/html": [
       "<div>\n",
       "<style scoped>\n",
       "    .dataframe tbody tr th:only-of-type {\n",
       "        vertical-align: middle;\n",
       "    }\n",
       "\n",
       "    .dataframe tbody tr th {\n",
       "        vertical-align: top;\n",
       "    }\n",
       "\n",
       "    .dataframe thead th {\n",
       "        text-align: right;\n",
       "    }\n",
       "</style>\n",
       "<table border=\"1\" class=\"dataframe\">\n",
       "  <thead>\n",
       "    <tr style=\"text-align: right;\">\n",
       "      <th></th>\n",
       "      <th>Pays</th>\n",
       "      <th>Annee</th>\n",
       "      <th>Population</th>\n",
       "    </tr>\n",
       "  </thead>\n",
       "  <tbody>\n",
       "    <tr>\n",
       "      <th>0</th>\n",
       "      <td>Afghanistan</td>\n",
       "      <td>2013</td>\n",
       "      <td>8600000</td>\n",
       "    </tr>\n",
       "    <tr>\n",
       "      <th>1</th>\n",
       "      <td>Afghanistan</td>\n",
       "      <td>2014</td>\n",
       "      <td>8800000</td>\n",
       "    </tr>\n",
       "    <tr>\n",
       "      <th>2</th>\n",
       "      <td>Afghanistan</td>\n",
       "      <td>2015</td>\n",
       "      <td>8900000</td>\n",
       "    </tr>\n",
       "    <tr>\n",
       "      <th>3</th>\n",
       "      <td>Afghanistan</td>\n",
       "      <td>2016</td>\n",
       "      <td>9700000</td>\n",
       "    </tr>\n",
       "    <tr>\n",
       "      <th>4</th>\n",
       "      <td>Afghanistan</td>\n",
       "      <td>2017</td>\n",
       "      <td>10500000</td>\n",
       "    </tr>\n",
       "    <tr>\n",
       "      <th>...</th>\n",
       "      <td>...</td>\n",
       "      <td>...</td>\n",
       "      <td>...</td>\n",
       "    </tr>\n",
       "    <tr>\n",
       "      <th>1213</th>\n",
       "      <td>Zimbabwe</td>\n",
       "      <td>2014</td>\n",
       "      <td>0</td>\n",
       "    </tr>\n",
       "    <tr>\n",
       "      <th>1214</th>\n",
       "      <td>Zimbabwe</td>\n",
       "      <td>2015</td>\n",
       "      <td>0</td>\n",
       "    </tr>\n",
       "    <tr>\n",
       "      <th>1215</th>\n",
       "      <td>Zimbabwe</td>\n",
       "      <td>2016</td>\n",
       "      <td>0</td>\n",
       "    </tr>\n",
       "    <tr>\n",
       "      <th>1216</th>\n",
       "      <td>Zimbabwe</td>\n",
       "      <td>2017</td>\n",
       "      <td>0</td>\n",
       "    </tr>\n",
       "    <tr>\n",
       "      <th>1217</th>\n",
       "      <td>Zimbabwe</td>\n",
       "      <td>2018</td>\n",
       "      <td>0</td>\n",
       "    </tr>\n",
       "  </tbody>\n",
       "</table>\n",
       "<p>1218 rows × 3 columns</p>\n",
       "</div>"
      ],
      "text/plain": [
       "             Pays Annee  Population\n",
       "0     Afghanistan  2013     8600000\n",
       "1     Afghanistan  2014     8800000\n",
       "2     Afghanistan  2015     8900000\n",
       "3     Afghanistan  2016     9700000\n",
       "4     Afghanistan  2017    10500000\n",
       "...           ...   ...         ...\n",
       "1213     Zimbabwe  2014           0\n",
       "1214     Zimbabwe  2015           0\n",
       "1215     Zimbabwe  2016           0\n",
       "1216     Zimbabwe  2017           0\n",
       "1217     Zimbabwe  2018           0\n",
       "\n",
       "[1218 rows x 3 columns]"
      ]
     },
     "execution_count": 17,
     "metadata": {},
     "output_type": "execute_result"
    }
   ],
   "source": [
    "datanutri"
   ]
  },
  {
   "cell_type": "code",
   "execution_count": 18,
   "id": "daff5b0f",
   "metadata": {},
   "outputs": [
    {
     "name": "stdout",
     "output_type": "stream",
     "text": [
      "<class 'pandas.core.frame.DataFrame'>\n",
      "RangeIndex: 1218 entries, 0 to 1217\n",
      "Data columns (total 3 columns):\n",
      " #   Column      Non-Null Count  Dtype \n",
      "---  ------      --------------  ----- \n",
      " 0   Pays        1218 non-null   object\n",
      " 1   Annee       1218 non-null   object\n",
      " 2   Population  1218 non-null   int32 \n",
      "dtypes: int32(1), object(2)\n",
      "memory usage: 23.9+ KB\n"
     ]
    }
   ],
   "source": [
    "datanutri.info()"
   ]
  },
  {
   "cell_type": "code",
   "execution_count": 19,
   "id": "ca874097",
   "metadata": {},
   "outputs": [],
   "source": [
    "datanutri.to_csv('../Data/processed_data/sous_nutrition_V2.csv', index=False)"
   ]
  },
  {
   "cell_type": "code",
   "execution_count": null,
   "id": "c8cdff5e",
   "metadata": {},
   "outputs": [],
   "source": []
  },
  {
   "cell_type": "code",
   "execution_count": null,
   "id": "2e2996c7",
   "metadata": {},
   "outputs": [],
   "source": []
  },
  {
   "cell_type": "code",
   "execution_count": null,
   "id": "4aa1c410",
   "metadata": {},
   "outputs": [],
   "source": []
  },
  {
   "cell_type": "code",
   "execution_count": null,
   "id": "4069ea59",
   "metadata": {},
   "outputs": [],
   "source": []
  },
  {
   "cell_type": "code",
   "execution_count": null,
   "id": "cbdbb6bb",
   "metadata": {},
   "outputs": [],
   "source": []
  },
  {
   "cell_type": "code",
   "execution_count": null,
   "id": "5c4f96fc",
   "metadata": {},
   "outputs": [],
   "source": []
  },
  {
   "cell_type": "code",
   "execution_count": null,
   "id": "7f4f3634",
   "metadata": {},
   "outputs": [],
   "source": []
  },
  {
   "cell_type": "code",
   "execution_count": null,
   "id": "ddd75dc3",
   "metadata": {},
   "outputs": [],
   "source": []
  },
  {
   "cell_type": "code",
   "execution_count": null,
   "id": "1bfac8e7",
   "metadata": {},
   "outputs": [],
   "source": []
  },
  {
   "cell_type": "code",
   "execution_count": null,
   "id": "e08ccf59",
   "metadata": {},
   "outputs": [],
   "source": []
  },
  {
   "cell_type": "code",
   "execution_count": null,
   "id": "a1c4cc36",
   "metadata": {},
   "outputs": [],
   "source": []
  }
 ],
 "metadata": {
  "kernelspec": {
   "display_name": "Python 3 (ipykernel)",
   "language": "python",
   "name": "python3"
  },
  "language_info": {
   "codemirror_mode": {
    "name": "ipython",
    "version": 3
   },
   "file_extension": ".py",
   "mimetype": "text/x-python",
   "name": "python",
   "nbconvert_exporter": "python",
   "pygments_lexer": "ipython3",
   "version": "3.9.13"
  }
 },
 "nbformat": 4,
 "nbformat_minor": 5
}
