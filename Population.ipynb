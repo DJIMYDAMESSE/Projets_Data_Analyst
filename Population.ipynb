{
 "cells": [
  {
   "cell_type": "code",
   "execution_count": 1,
   "id": "23fb72ba",
   "metadata": {},
   "outputs": [],
   "source": [
    "import numpy as np\n",
    "import pandas as pd"
   ]
  },
  {
   "cell_type": "code",
   "execution_count": 2,
   "id": "f948ebf3",
   "metadata": {},
   "outputs": [],
   "source": [
    "datapop = pd.read_csv(\"../Data/raw_data/population.csv\")"
   ]
  },
  {
   "cell_type": "code",
   "execution_count": 3,
   "id": "70ec3f22",
   "metadata": {},
   "outputs": [
    {
     "data": {
      "text/html": [
       "<div>\n",
       "<style scoped>\n",
       "    .dataframe tbody tr th:only-of-type {\n",
       "        vertical-align: middle;\n",
       "    }\n",
       "\n",
       "    .dataframe tbody tr th {\n",
       "        vertical-align: top;\n",
       "    }\n",
       "\n",
       "    .dataframe thead th {\n",
       "        text-align: right;\n",
       "    }\n",
       "</style>\n",
       "<table border=\"1\" class=\"dataframe\">\n",
       "  <thead>\n",
       "    <tr style=\"text-align: right;\">\n",
       "      <th></th>\n",
       "      <th>Zone</th>\n",
       "      <th>Année</th>\n",
       "      <th>Valeur</th>\n",
       "    </tr>\n",
       "  </thead>\n",
       "  <tbody>\n",
       "    <tr>\n",
       "      <th>0</th>\n",
       "      <td>Afghanistan</td>\n",
       "      <td>2013</td>\n",
       "      <td>32269.589</td>\n",
       "    </tr>\n",
       "    <tr>\n",
       "      <th>1</th>\n",
       "      <td>Afghanistan</td>\n",
       "      <td>2014</td>\n",
       "      <td>33370.794</td>\n",
       "    </tr>\n",
       "    <tr>\n",
       "      <th>2</th>\n",
       "      <td>Afghanistan</td>\n",
       "      <td>2015</td>\n",
       "      <td>34413.603</td>\n",
       "    </tr>\n",
       "    <tr>\n",
       "      <th>3</th>\n",
       "      <td>Afghanistan</td>\n",
       "      <td>2016</td>\n",
       "      <td>35383.032</td>\n",
       "    </tr>\n",
       "    <tr>\n",
       "      <th>4</th>\n",
       "      <td>Afghanistan</td>\n",
       "      <td>2017</td>\n",
       "      <td>36296.113</td>\n",
       "    </tr>\n",
       "    <tr>\n",
       "      <th>...</th>\n",
       "      <td>...</td>\n",
       "      <td>...</td>\n",
       "      <td>...</td>\n",
       "    </tr>\n",
       "    <tr>\n",
       "      <th>1411</th>\n",
       "      <td>Zimbabwe</td>\n",
       "      <td>2014</td>\n",
       "      <td>13586.707</td>\n",
       "    </tr>\n",
       "    <tr>\n",
       "      <th>1412</th>\n",
       "      <td>Zimbabwe</td>\n",
       "      <td>2015</td>\n",
       "      <td>13814.629</td>\n",
       "    </tr>\n",
       "    <tr>\n",
       "      <th>1413</th>\n",
       "      <td>Zimbabwe</td>\n",
       "      <td>2016</td>\n",
       "      <td>14030.331</td>\n",
       "    </tr>\n",
       "    <tr>\n",
       "      <th>1414</th>\n",
       "      <td>Zimbabwe</td>\n",
       "      <td>2017</td>\n",
       "      <td>14236.595</td>\n",
       "    </tr>\n",
       "    <tr>\n",
       "      <th>1415</th>\n",
       "      <td>Zimbabwe</td>\n",
       "      <td>2018</td>\n",
       "      <td>14438.802</td>\n",
       "    </tr>\n",
       "  </tbody>\n",
       "</table>\n",
       "<p>1416 rows × 3 columns</p>\n",
       "</div>"
      ],
      "text/plain": [
       "             Zone  Année     Valeur\n",
       "0     Afghanistan   2013  32269.589\n",
       "1     Afghanistan   2014  33370.794\n",
       "2     Afghanistan   2015  34413.603\n",
       "3     Afghanistan   2016  35383.032\n",
       "4     Afghanistan   2017  36296.113\n",
       "...           ...    ...        ...\n",
       "1411     Zimbabwe   2014  13586.707\n",
       "1412     Zimbabwe   2015  13814.629\n",
       "1413     Zimbabwe   2016  14030.331\n",
       "1414     Zimbabwe   2017  14236.595\n",
       "1415     Zimbabwe   2018  14438.802\n",
       "\n",
       "[1416 rows x 3 columns]"
      ]
     },
     "execution_count": 3,
     "metadata": {},
     "output_type": "execute_result"
    }
   ],
   "source": [
    "datapop"
   ]
  },
  {
   "cell_type": "code",
   "execution_count": 4,
   "id": "ef0478ea",
   "metadata": {},
   "outputs": [
    {
     "name": "stdout",
     "output_type": "stream",
     "text": [
      "<class 'pandas.core.frame.DataFrame'>\n",
      "RangeIndex: 1416 entries, 0 to 1415\n",
      "Data columns (total 3 columns):\n",
      " #   Column  Non-Null Count  Dtype  \n",
      "---  ------  --------------  -----  \n",
      " 0   Zone    1416 non-null   object \n",
      " 1   Année   1416 non-null   int64  \n",
      " 2   Valeur  1416 non-null   float64\n",
      "dtypes: float64(1), int64(1), object(1)\n",
      "memory usage: 33.3+ KB\n"
     ]
    }
   ],
   "source": [
    "datapop.info()"
   ]
  },
  {
   "cell_type": "code",
   "execution_count": 5,
   "id": "fd392f9f",
   "metadata": {},
   "outputs": [],
   "source": [
    "datapop = datapop.rename(columns={'Zone': 'Pays' ,'Année':'Annee' , 'Valeur': 'Population'})"
   ]
  },
  {
   "cell_type": "code",
   "execution_count": 6,
   "id": "2cfebd08",
   "metadata": {},
   "outputs": [
    {
     "data": {
      "text/html": [
       "<div>\n",
       "<style scoped>\n",
       "    .dataframe tbody tr th:only-of-type {\n",
       "        vertical-align: middle;\n",
       "    }\n",
       "\n",
       "    .dataframe tbody tr th {\n",
       "        vertical-align: top;\n",
       "    }\n",
       "\n",
       "    .dataframe thead th {\n",
       "        text-align: right;\n",
       "    }\n",
       "</style>\n",
       "<table border=\"1\" class=\"dataframe\">\n",
       "  <thead>\n",
       "    <tr style=\"text-align: right;\">\n",
       "      <th></th>\n",
       "      <th>Pays</th>\n",
       "      <th>Annee</th>\n",
       "      <th>Population</th>\n",
       "    </tr>\n",
       "  </thead>\n",
       "  <tbody>\n",
       "    <tr>\n",
       "      <th>0</th>\n",
       "      <td>Afghanistan</td>\n",
       "      <td>2013</td>\n",
       "      <td>32269.589</td>\n",
       "    </tr>\n",
       "    <tr>\n",
       "      <th>1</th>\n",
       "      <td>Afghanistan</td>\n",
       "      <td>2014</td>\n",
       "      <td>33370.794</td>\n",
       "    </tr>\n",
       "    <tr>\n",
       "      <th>2</th>\n",
       "      <td>Afghanistan</td>\n",
       "      <td>2015</td>\n",
       "      <td>34413.603</td>\n",
       "    </tr>\n",
       "    <tr>\n",
       "      <th>3</th>\n",
       "      <td>Afghanistan</td>\n",
       "      <td>2016</td>\n",
       "      <td>35383.032</td>\n",
       "    </tr>\n",
       "    <tr>\n",
       "      <th>4</th>\n",
       "      <td>Afghanistan</td>\n",
       "      <td>2017</td>\n",
       "      <td>36296.113</td>\n",
       "    </tr>\n",
       "    <tr>\n",
       "      <th>...</th>\n",
       "      <td>...</td>\n",
       "      <td>...</td>\n",
       "      <td>...</td>\n",
       "    </tr>\n",
       "    <tr>\n",
       "      <th>1411</th>\n",
       "      <td>Zimbabwe</td>\n",
       "      <td>2014</td>\n",
       "      <td>13586.707</td>\n",
       "    </tr>\n",
       "    <tr>\n",
       "      <th>1412</th>\n",
       "      <td>Zimbabwe</td>\n",
       "      <td>2015</td>\n",
       "      <td>13814.629</td>\n",
       "    </tr>\n",
       "    <tr>\n",
       "      <th>1413</th>\n",
       "      <td>Zimbabwe</td>\n",
       "      <td>2016</td>\n",
       "      <td>14030.331</td>\n",
       "    </tr>\n",
       "    <tr>\n",
       "      <th>1414</th>\n",
       "      <td>Zimbabwe</td>\n",
       "      <td>2017</td>\n",
       "      <td>14236.595</td>\n",
       "    </tr>\n",
       "    <tr>\n",
       "      <th>1415</th>\n",
       "      <td>Zimbabwe</td>\n",
       "      <td>2018</td>\n",
       "      <td>14438.802</td>\n",
       "    </tr>\n",
       "  </tbody>\n",
       "</table>\n",
       "<p>1416 rows × 3 columns</p>\n",
       "</div>"
      ],
      "text/plain": [
       "             Pays  Annee  Population\n",
       "0     Afghanistan   2013   32269.589\n",
       "1     Afghanistan   2014   33370.794\n",
       "2     Afghanistan   2015   34413.603\n",
       "3     Afghanistan   2016   35383.032\n",
       "4     Afghanistan   2017   36296.113\n",
       "...           ...    ...         ...\n",
       "1411     Zimbabwe   2014   13586.707\n",
       "1412     Zimbabwe   2015   13814.629\n",
       "1413     Zimbabwe   2016   14030.331\n",
       "1414     Zimbabwe   2017   14236.595\n",
       "1415     Zimbabwe   2018   14438.802\n",
       "\n",
       "[1416 rows x 3 columns]"
      ]
     },
     "execution_count": 6,
     "metadata": {},
     "output_type": "execute_result"
    }
   ],
   "source": [
    "datapop"
   ]
  },
  {
   "cell_type": "code",
   "execution_count": 7,
   "id": "6a8a6397",
   "metadata": {},
   "outputs": [
    {
     "data": {
      "text/plain": [
       "array([32269.589, 33370.794, 34413.603, ..., 14030.331, 14236.595,\n",
       "       14438.802])"
      ]
     },
     "execution_count": 7,
     "metadata": {},
     "output_type": "execute_result"
    }
   ],
   "source": [
    "datapop.Population.unique()"
   ]
  },
  {
   "cell_type": "code",
   "execution_count": 8,
   "id": "deff2279",
   "metadata": {},
   "outputs": [
    {
     "data": {
      "text/plain": [
       "array([2013, 2014, 2015, 2016, 2017, 2018], dtype=int64)"
      ]
     },
     "execution_count": 8,
     "metadata": {},
     "output_type": "execute_result"
    }
   ],
   "source": [
    "datapop.Annee.unique()"
   ]
  },
  {
   "cell_type": "code",
   "execution_count": 9,
   "id": "2b8c1f40",
   "metadata": {},
   "outputs": [
    {
     "data": {
      "text/plain": [
       "array(['Afghanistan', 'Afrique du Sud', 'Albanie', 'Algérie', 'Allemagne',\n",
       "       'Andorre', 'Angola', 'Anguilla', 'Antigua-et-Barbuda',\n",
       "       'Antilles néerlandaises (ex)', 'Arabie saoudite', 'Argentine',\n",
       "       'Arménie', 'Aruba', 'Australie', 'Autriche', 'Azerbaïdjan',\n",
       "       'Bahamas', 'Bahreïn', 'Bangladesh', 'Barbade', 'Bélarus',\n",
       "       'Belgique', 'Belize', 'Bénin', 'Bermudes', 'Bhoutan',\n",
       "       'Bolivie (État plurinational de)',\n",
       "       'Bonaire, Saint-Eustache et Saba', 'Bosnie-Herzégovine',\n",
       "       'Botswana', 'Brésil', 'Brunéi Darussalam', 'Bulgarie',\n",
       "       'Burkina Faso', 'Burundi', 'Cabo Verde', 'Cambodge', 'Cameroun',\n",
       "       'Canada', 'Chili', 'Chine - RAS de Hong-Kong',\n",
       "       'Chine - RAS de Macao', 'Chine, continentale',\n",
       "       'Chine, Taiwan Province de', 'Chypre', 'Colombie', 'Comores',\n",
       "       'Congo', 'Costa Rica', \"Côte d'Ivoire\", 'Croatie', 'Cuba',\n",
       "       'Curaçao', 'Danemark', 'Djibouti', 'Dominique', 'Égypte',\n",
       "       'El Salvador', 'Émirats arabes unis', 'Équateur', 'Érythrée',\n",
       "       'Espagne', 'Estonie', 'Eswatini', \"États-Unis d'Amérique\",\n",
       "       'Éthiopie', 'Fédération de Russie', 'Fidji', 'Finlande', 'France',\n",
       "       'Gabon', 'Gambie', 'Géorgie', 'Ghana', 'Gibraltar', 'Grèce',\n",
       "       'Grenade', 'Groenland', 'Guadeloupe', 'Guam', 'Guatemala',\n",
       "       'Guinée', 'Guinée équatoriale', 'Guinée-Bissau', 'Guyana',\n",
       "       'Guyane française', 'Haïti', 'Honduras', 'Hongrie', 'Île de Man',\n",
       "       'Îles Anglo-Normandes', 'Îles Caïmanes', 'Îles Cook',\n",
       "       'Îles Falkland (Malvinas)', 'Îles Féroé', 'Îles Mariannes du Nord',\n",
       "       'Îles Marshall', 'Îles Salomon', 'Îles Turques-et-Caïques',\n",
       "       'Îles Vierges américaines', 'Îles Vierges britanniques',\n",
       "       'Îles Wallis-et-Futuna', 'Inde', 'Indonésie',\n",
       "       \"Iran (République islamique d')\", 'Iraq', 'Irlande', 'Islande',\n",
       "       'Israël', 'Italie', 'Jamaïque', 'Japon', 'Jordanie', 'Kazakhstan',\n",
       "       'Kenya', 'Kirghizistan', 'Kiribati', 'Koweït', 'Lesotho',\n",
       "       'Lettonie', 'Liban', 'Libéria', 'Libye', 'Liechtenstein',\n",
       "       'Lituanie', 'Luxembourg', 'Macédoine du Nord', 'Madagascar',\n",
       "       'Malaisie', 'Malawi', 'Maldives', 'Mali', 'Malte', 'Maroc',\n",
       "       'Martinique', 'Maurice', 'Mauritanie', 'Mayotte', 'Mexique',\n",
       "       'Micronésie (États fédérés de)', 'Monaco', 'Mongolie',\n",
       "       'Monténégro', 'Montserrat', 'Mozambique', 'Myanmar', 'Namibie',\n",
       "       'Nauru', 'Népal', 'Nicaragua', 'Niger', 'Nigéria', 'Nioué',\n",
       "       'Norvège', 'Nouvelle-Calédonie', 'Nouvelle-Zélande', 'Oman',\n",
       "       'Ouganda', 'Ouzbékistan', 'Pakistan', 'Palaos', 'Palestine',\n",
       "       'Panama', 'Papouasie-Nouvelle-Guinée', 'Paraguay', 'Pays-Bas',\n",
       "       'Pérou', 'Philippines', 'Pologne', 'Polynésie française',\n",
       "       'Porto Rico', 'Portugal', 'Qatar', 'République arabe syrienne',\n",
       "       'République centrafricaine', 'République de Corée',\n",
       "       'République de Moldova', 'République démocratique du Congo',\n",
       "       'République démocratique populaire lao', 'République dominicaine',\n",
       "       'République populaire démocratique de Corée',\n",
       "       'République-Unie de Tanzanie', 'Réunion', 'Roumanie',\n",
       "       \"Royaume-Uni de Grande-Bretagne et d'Irlande du Nord\", 'Rwanda',\n",
       "       'Sahara occidental', 'Saint-Barthélemy',\n",
       "       'Sainte-Hélène, Ascension et Tristan da Cunha', 'Sainte-Lucie',\n",
       "       'Saint-Kitts-et-Nevis', 'Saint-Marin',\n",
       "       'Saint-Martin (partie française)', 'Saint-Pierre-et-Miquelon',\n",
       "       'Saint-Siège', 'Saint-Vincent-et-les Grenadines', 'Samoa',\n",
       "       'Samoa américaines', 'Sao Tomé-et-Principe', 'Sénégal', 'Serbie',\n",
       "       'Seychelles', 'Sierra Leone', 'Singapour',\n",
       "       'Sint Maarten  (partie néerlandaise)', 'Slovaquie', 'Slovénie',\n",
       "       'Somalie', 'Soudan', 'Soudan du Sud', 'Sri Lanka', 'Suède',\n",
       "       'Suisse', 'Suriname', 'Tadjikistan', 'Tchad', 'Tchéquie',\n",
       "       'Thaïlande', 'Timor-Leste', 'Togo', 'Tokélaou', 'Tonga',\n",
       "       'Trinité-et-Tobago', 'Tunisie', 'Turkménistan', 'Turquie',\n",
       "       'Tuvalu', 'Ukraine', 'Uruguay', 'Vanuatu',\n",
       "       'Venezuela (République bolivarienne du)', 'Viet Nam', 'Yémen',\n",
       "       'Zambie', 'Zimbabwe'], dtype=object)"
      ]
     },
     "execution_count": 9,
     "metadata": {},
     "output_type": "execute_result"
    }
   ],
   "source": [
    "datapop.Pays.unique()"
   ]
  },
  {
   "cell_type": "code",
   "execution_count": 10,
   "id": "db635938",
   "metadata": {},
   "outputs": [],
   "source": [
    "datapop.Population = datapop.Population*1000"
   ]
  },
  {
   "cell_type": "code",
   "execution_count": 11,
   "id": "72d84b63",
   "metadata": {},
   "outputs": [],
   "source": [
    "datapop.Population = datapop.Population.astype(int)"
   ]
  },
  {
   "cell_type": "code",
   "execution_count": 12,
   "id": "7d6f5d28",
   "metadata": {},
   "outputs": [],
   "source": [
    "datapop.Annee = datapop.Annee.astype(object)"
   ]
  },
  {
   "cell_type": "code",
   "execution_count": 13,
   "id": "bddf3aea",
   "metadata": {},
   "outputs": [
    {
     "name": "stdout",
     "output_type": "stream",
     "text": [
      "<class 'pandas.core.frame.DataFrame'>\n",
      "RangeIndex: 1416 entries, 0 to 1415\n",
      "Data columns (total 3 columns):\n",
      " #   Column      Non-Null Count  Dtype \n",
      "---  ------      --------------  ----- \n",
      " 0   Pays        1416 non-null   object\n",
      " 1   Annee       1416 non-null   object\n",
      " 2   Population  1416 non-null   int32 \n",
      "dtypes: int32(1), object(2)\n",
      "memory usage: 27.8+ KB\n"
     ]
    }
   ],
   "source": [
    "datapop.info()"
   ]
  },
  {
   "cell_type": "code",
   "execution_count": 14,
   "id": "870a6630",
   "metadata": {},
   "outputs": [
    {
     "data": {
      "text/html": [
       "<div>\n",
       "<style scoped>\n",
       "    .dataframe tbody tr th:only-of-type {\n",
       "        vertical-align: middle;\n",
       "    }\n",
       "\n",
       "    .dataframe tbody tr th {\n",
       "        vertical-align: top;\n",
       "    }\n",
       "\n",
       "    .dataframe thead th {\n",
       "        text-align: right;\n",
       "    }\n",
       "</style>\n",
       "<table border=\"1\" class=\"dataframe\">\n",
       "  <thead>\n",
       "    <tr style=\"text-align: right;\">\n",
       "      <th></th>\n",
       "      <th>Pays</th>\n",
       "      <th>Annee</th>\n",
       "      <th>Population</th>\n",
       "    </tr>\n",
       "  </thead>\n",
       "  <tbody>\n",
       "    <tr>\n",
       "      <th>0</th>\n",
       "      <td>Afghanistan</td>\n",
       "      <td>2013</td>\n",
       "      <td>32269589</td>\n",
       "    </tr>\n",
       "    <tr>\n",
       "      <th>1</th>\n",
       "      <td>Afghanistan</td>\n",
       "      <td>2014</td>\n",
       "      <td>33370794</td>\n",
       "    </tr>\n",
       "    <tr>\n",
       "      <th>2</th>\n",
       "      <td>Afghanistan</td>\n",
       "      <td>2015</td>\n",
       "      <td>34413603</td>\n",
       "    </tr>\n",
       "    <tr>\n",
       "      <th>3</th>\n",
       "      <td>Afghanistan</td>\n",
       "      <td>2016</td>\n",
       "      <td>35383032</td>\n",
       "    </tr>\n",
       "    <tr>\n",
       "      <th>4</th>\n",
       "      <td>Afghanistan</td>\n",
       "      <td>2017</td>\n",
       "      <td>36296113</td>\n",
       "    </tr>\n",
       "    <tr>\n",
       "      <th>...</th>\n",
       "      <td>...</td>\n",
       "      <td>...</td>\n",
       "      <td>...</td>\n",
       "    </tr>\n",
       "    <tr>\n",
       "      <th>1411</th>\n",
       "      <td>Zimbabwe</td>\n",
       "      <td>2014</td>\n",
       "      <td>13586707</td>\n",
       "    </tr>\n",
       "    <tr>\n",
       "      <th>1412</th>\n",
       "      <td>Zimbabwe</td>\n",
       "      <td>2015</td>\n",
       "      <td>13814629</td>\n",
       "    </tr>\n",
       "    <tr>\n",
       "      <th>1413</th>\n",
       "      <td>Zimbabwe</td>\n",
       "      <td>2016</td>\n",
       "      <td>14030331</td>\n",
       "    </tr>\n",
       "    <tr>\n",
       "      <th>1414</th>\n",
       "      <td>Zimbabwe</td>\n",
       "      <td>2017</td>\n",
       "      <td>14236595</td>\n",
       "    </tr>\n",
       "    <tr>\n",
       "      <th>1415</th>\n",
       "      <td>Zimbabwe</td>\n",
       "      <td>2018</td>\n",
       "      <td>14438802</td>\n",
       "    </tr>\n",
       "  </tbody>\n",
       "</table>\n",
       "<p>1416 rows × 3 columns</p>\n",
       "</div>"
      ],
      "text/plain": [
       "             Pays Annee  Population\n",
       "0     Afghanistan  2013    32269589\n",
       "1     Afghanistan  2014    33370794\n",
       "2     Afghanistan  2015    34413603\n",
       "3     Afghanistan  2016    35383032\n",
       "4     Afghanistan  2017    36296113\n",
       "...           ...   ...         ...\n",
       "1411     Zimbabwe  2014    13586707\n",
       "1412     Zimbabwe  2015    13814629\n",
       "1413     Zimbabwe  2016    14030331\n",
       "1414     Zimbabwe  2017    14236595\n",
       "1415     Zimbabwe  2018    14438802\n",
       "\n",
       "[1416 rows x 3 columns]"
      ]
     },
     "execution_count": 14,
     "metadata": {},
     "output_type": "execute_result"
    }
   ],
   "source": [
    "datapop"
   ]
  },
  {
   "cell_type": "code",
   "execution_count": 15,
   "id": "07a6d7fc",
   "metadata": {},
   "outputs": [],
   "source": [
    "datapop.to_csv('../Data/processed_data/population_V2.csv', index=False)"
   ]
  }
 ],
 "metadata": {
  "kernelspec": {
   "display_name": "Python 3 (ipykernel)",
   "language": "python",
   "name": "python3"
  },
  "language_info": {
   "codemirror_mode": {
    "name": "ipython",
    "version": 3
   },
   "file_extension": ".py",
   "mimetype": "text/x-python",
   "name": "python",
   "nbconvert_exporter": "python",
   "pygments_lexer": "ipython3",
   "version": "3.9.13"
  }
 },
 "nbformat": 4,
 "nbformat_minor": 5
}
