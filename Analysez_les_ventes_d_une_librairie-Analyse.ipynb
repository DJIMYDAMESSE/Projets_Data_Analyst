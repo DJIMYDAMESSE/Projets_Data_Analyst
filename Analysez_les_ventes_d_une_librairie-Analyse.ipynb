{
 "cells": [
  {
   "cell_type": "code",
   "execution_count": 2,
   "id": "cedcf416",
   "metadata": {},
   "outputs": [
    {
     "name": "stdout",
     "output_type": "stream",
     "text": [
      "Collecting pingouin\n",
      "  Downloading pingouin-0.5.3-py3-none-any.whl (198 kB)\n",
      "     -------------------------------------- 198.6/198.6 kB 4.1 MB/s eta 0:00:00\n",
      "Requirement already satisfied: scipy>=1.7 in c:\\users\\ibrahim\\anaconda3\\lib\\site-packages (from pingouin) (1.9.1)\n",
      "Requirement already satisfied: seaborn>=0.11 in c:\\users\\ibrahim\\anaconda3\\lib\\site-packages (from pingouin) (0.11.2)\n",
      "Requirement already satisfied: statsmodels>=0.13 in c:\\users\\ibrahim\\anaconda3\\lib\\site-packages (from pingouin) (0.13.2)\n",
      "Requirement already satisfied: scikit-learn in c:\\users\\ibrahim\\anaconda3\\lib\\site-packages (from pingouin) (1.0.2)\n",
      "Requirement already satisfied: matplotlib>=3.0.2 in c:\\users\\ibrahim\\anaconda3\\lib\\site-packages (from pingouin) (3.5.2)\n",
      "Collecting outdated\n",
      "  Downloading outdated-0.2.2-py2.py3-none-any.whl (7.5 kB)\n",
      "Requirement already satisfied: numpy>=1.19 in c:\\users\\ibrahim\\anaconda3\\lib\\site-packages (from pingouin) (1.21.5)\n",
      "Requirement already satisfied: tabulate in c:\\users\\ibrahim\\anaconda3\\lib\\site-packages (from pingouin) (0.8.10)\n",
      "Requirement already satisfied: pandas>=1.0 in c:\\users\\ibrahim\\anaconda3\\lib\\site-packages (from pingouin) (1.4.4)\n",
      "Collecting pandas-flavor>=0.2.0\n",
      "  Downloading pandas_flavor-0.6.0-py3-none-any.whl (7.2 kB)\n",
      "Requirement already satisfied: cycler>=0.10 in c:\\users\\ibrahim\\anaconda3\\lib\\site-packages (from matplotlib>=3.0.2->pingouin) (0.11.0)\n",
      "Requirement already satisfied: fonttools>=4.22.0 in c:\\users\\ibrahim\\anaconda3\\lib\\site-packages (from matplotlib>=3.0.2->pingouin) (4.25.0)\n",
      "Requirement already satisfied: pyparsing>=2.2.1 in c:\\users\\ibrahim\\anaconda3\\lib\\site-packages (from matplotlib>=3.0.2->pingouin) (3.0.9)\n",
      "Requirement already satisfied: kiwisolver>=1.0.1 in c:\\users\\ibrahim\\anaconda3\\lib\\site-packages (from matplotlib>=3.0.2->pingouin) (1.4.2)\n",
      "Requirement already satisfied: python-dateutil>=2.7 in c:\\users\\ibrahim\\anaconda3\\lib\\site-packages (from matplotlib>=3.0.2->pingouin) (2.8.2)\n",
      "Requirement already satisfied: packaging>=20.0 in c:\\users\\ibrahim\\anaconda3\\lib\\site-packages (from matplotlib>=3.0.2->pingouin) (21.3)\n",
      "Requirement already satisfied: pillow>=6.2.0 in c:\\users\\ibrahim\\anaconda3\\lib\\site-packages (from matplotlib>=3.0.2->pingouin) (9.2.0)\n",
      "Requirement already satisfied: pytz>=2020.1 in c:\\users\\ibrahim\\anaconda3\\lib\\site-packages (from pandas>=1.0->pingouin) (2022.1)\n",
      "Requirement already satisfied: xarray in c:\\users\\ibrahim\\anaconda3\\lib\\site-packages (from pandas-flavor>=0.2.0->pingouin) (0.20.1)\n",
      "Requirement already satisfied: patsy>=0.5.2 in c:\\users\\ibrahim\\anaconda3\\lib\\site-packages (from statsmodels>=0.13->pingouin) (0.5.2)\n",
      "Collecting littleutils\n",
      "  Downloading littleutils-0.2.2.tar.gz (6.6 kB)\n",
      "  Preparing metadata (setup.py): started\n",
      "  Preparing metadata (setup.py): finished with status 'done'\n",
      "Requirement already satisfied: requests in c:\\users\\ibrahim\\anaconda3\\lib\\site-packages (from outdated->pingouin) (2.28.1)\n",
      "Requirement already satisfied: setuptools>=44 in c:\\users\\ibrahim\\anaconda3\\lib\\site-packages (from outdated->pingouin) (63.4.1)\n",
      "Requirement already satisfied: joblib>=0.11 in c:\\users\\ibrahim\\anaconda3\\lib\\site-packages (from scikit-learn->pingouin) (1.1.0)\n",
      "Requirement already satisfied: threadpoolctl>=2.0.0 in c:\\users\\ibrahim\\anaconda3\\lib\\site-packages (from scikit-learn->pingouin) (2.2.0)\n",
      "Requirement already satisfied: six in c:\\users\\ibrahim\\anaconda3\\lib\\site-packages (from patsy>=0.5.2->statsmodels>=0.13->pingouin) (1.16.0)\n",
      "Requirement already satisfied: charset-normalizer<3,>=2 in c:\\users\\ibrahim\\anaconda3\\lib\\site-packages (from requests->outdated->pingouin) (2.0.4)\n",
      "Requirement already satisfied: certifi>=2017.4.17 in c:\\users\\ibrahim\\anaconda3\\lib\\site-packages (from requests->outdated->pingouin) (2022.9.14)\n",
      "Requirement already satisfied: urllib3<1.27,>=1.21.1 in c:\\users\\ibrahim\\anaconda3\\lib\\site-packages (from requests->outdated->pingouin) (1.26.11)\n",
      "Requirement already satisfied: idna<4,>=2.5 in c:\\users\\ibrahim\\anaconda3\\lib\\site-packages (from requests->outdated->pingouin) (3.3)\n",
      "Building wheels for collected packages: littleutils\n",
      "  Building wheel for littleutils (setup.py): started\n",
      "  Building wheel for littleutils (setup.py): finished with status 'done'\n",
      "  Created wheel for littleutils: filename=littleutils-0.2.2-py3-none-any.whl size=7028 sha256=f21560ccfd9f04dcffb07dee87ce432da63cbe5a6f9878f8b00d559e8b75dea1\n",
      "  Stored in directory: c:\\users\\ibrahim\\appdata\\local\\pip\\cache\\wheels\\04\\bb\\0d\\2d02ec45f29c48d6192476bfb59c5a0e64b605e7212374dd15\n",
      "Successfully built littleutils\n",
      "Installing collected packages: littleutils, outdated, pandas-flavor, pingouin\n",
      "Successfully installed littleutils-0.2.2 outdated-0.2.2 pandas-flavor-0.6.0 pingouin-0.5.3\n",
      "Note: you may need to restart the kernel to use updated packages.\n"
     ]
    }
   ],
   "source": [
    "pip install pingouin"
   ]
  },
  {
   "cell_type": "code",
   "execution_count": 3,
   "id": "9705543b",
   "metadata": {},
   "outputs": [],
   "source": [
    "import numpy as np\n",
    "import pandas as pd\n",
    "import seaborn as sns\n",
    "import matplotlib.pyplot as plt\n",
    "import statsmodels.api as sm\n",
    "from scipy.stats import pearsonr\n",
    "from scipy.stats import chi2_contingency\n",
    "import scipy.stats as stats\n",
    "import scipy.stats as st\n",
    "import pingouin as pg"
   ]
  },
  {
   "cell_type": "markdown",
   "id": "e8fb96b3",
   "metadata": {},
   "source": [
    "# Import des données clients"
   ]
  },
  {
   "cell_type": "code",
   "execution_count": null,
   "id": "fd53bee8",
   "metadata": {},
   "outputs": [],
   "source": [
    "# Import du et première vu du fichier client \n",
    "\n",
    "datacustomers = pd.read_csv(\"Data/raw_data/customers.csv\")\n",
    "datacustomers"
   ]
  },
  {
   "cell_type": "markdown",
   "id": "8bf7c26b",
   "metadata": {},
   "source": [
    "# Vérification des données clients"
   ]
  },
  {
   "cell_type": "code",
   "execution_count": null,
   "id": "f78b7bbe",
   "metadata": {},
   "outputs": [],
   "source": [
    "# Info du fichier client\n",
    "\n",
    "datacustomers.info()"
   ]
  },
  {
   "cell_type": "code",
   "execution_count": null,
   "id": "c3159574",
   "metadata": {},
   "outputs": [],
   "source": [
    "# Recherche des valeurs null\n",
    "\n",
    "print(datacustomers.isnull().sum())"
   ]
  },
  {
   "cell_type": "code",
   "execution_count": null,
   "id": "64f49c04",
   "metadata": {},
   "outputs": [],
   "source": [
    "# Vérification des genres\n",
    "\n",
    "datacustomers['sex'].unique()"
   ]
  },
  {
   "cell_type": "code",
   "execution_count": null,
   "id": "b4e87bb3",
   "metadata": {},
   "outputs": [],
   "source": [
    "# Recherche des doublons\n",
    "\n",
    "datacustomers.loc[datacustomers['client_id'].duplicated(keep=False),:]"
   ]
  },
  {
   "cell_type": "code",
   "execution_count": null,
   "id": "d4623d33",
   "metadata": {},
   "outputs": [],
   "source": [
    "# Recherche de clients test\n",
    "\n",
    "client_test = datacustomers[datacustomers['client_id'].str.contains('ct')]\n",
    "client_test"
   ]
  },
  {
   "cell_type": "markdown",
   "id": "dba8a8fa",
   "metadata": {},
   "source": [
    "# Nettoyage des données clients"
   ]
  },
  {
   "cell_type": "code",
   "execution_count": null,
   "id": "f1b7a108",
   "metadata": {},
   "outputs": [],
   "source": [
    "datacustomers = datacustomers.drop(client_test.index)"
   ]
  },
  {
   "cell_type": "markdown",
   "id": "dfb17a94",
   "metadata": {},
   "source": [
    "# Import des données produits"
   ]
  },
  {
   "cell_type": "code",
   "execution_count": null,
   "id": "cb8f858c",
   "metadata": {},
   "outputs": [],
   "source": [
    "# Import et première vu du fichier produit\n",
    "\n",
    "dataproducts = pd.read_csv(\"Data/raw_data/products.csv\")\n",
    "dataproducts"
   ]
  },
  {
   "cell_type": "markdown",
   "id": "ba48a899",
   "metadata": {},
   "source": [
    "# Vérification des données produits"
   ]
  },
  {
   "cell_type": "code",
   "execution_count": null,
   "id": "3026fd18",
   "metadata": {},
   "outputs": [],
   "source": [
    "# Infos du fichier produit\n",
    "\n",
    "dataproducts.info()"
   ]
  },
  {
   "cell_type": "code",
   "execution_count": null,
   "id": "de1e2d4f",
   "metadata": {},
   "outputs": [],
   "source": [
    "# Recherche des valeurs null\n",
    "\n",
    "print(dataproducts.isnull().sum())"
   ]
  },
  {
   "cell_type": "code",
   "execution_count": null,
   "id": "e22be0fe",
   "metadata": {},
   "outputs": [],
   "source": [
    "# Verification des catégories éxistantes\n",
    "\n",
    "dataproducts['categ'].unique()"
   ]
  },
  {
   "cell_type": "code",
   "execution_count": null,
   "id": "d6b6b38f",
   "metadata": {},
   "outputs": [],
   "source": [
    "# Vérification du prix maximum\n",
    "\n",
    "dataproducts['price'].max()"
   ]
  },
  {
   "cell_type": "code",
   "execution_count": null,
   "id": "f26560d8",
   "metadata": {},
   "outputs": [],
   "source": [
    "# Vérification du prix minimum\n",
    "\n",
    "dataproducts['price'].min()"
   ]
  },
  {
   "cell_type": "code",
   "execution_count": null,
   "id": "0514cc93",
   "metadata": {},
   "outputs": [],
   "source": [
    "# Recherche de l'erreur de prix minimum\n",
    "\n",
    "dataproducts[dataproducts['price'] == -1.0]"
   ]
  },
  {
   "cell_type": "code",
   "execution_count": null,
   "id": "aa267ed8",
   "metadata": {},
   "outputs": [],
   "source": [
    "#Recherche des 'id_prod' commencant par la lettre 'T' (les testes)\n",
    "\n",
    "prod_test = dataproducts[dataproducts['id_prod'].str.contains('T','t')]\n",
    "prod_test"
   ]
  },
  {
   "cell_type": "code",
   "execution_count": null,
   "id": "9d78b089",
   "metadata": {},
   "outputs": [],
   "source": [
    "# Recherche des doublons\n",
    "\n",
    "dataproducts.loc[dataproducts['id_prod'].duplicated(keep=False),:]"
   ]
  },
  {
   "cell_type": "markdown",
   "id": "819d9931",
   "metadata": {},
   "source": [
    "# Nettoyage des données produits"
   ]
  },
  {
   "cell_type": "code",
   "execution_count": null,
   "id": "471cc7f9",
   "metadata": {},
   "outputs": [],
   "source": [
    "# Suppression des produits test\n",
    "\n",
    "dataproducts = dataproducts.drop(prod_test.index)"
   ]
  },
  {
   "cell_type": "markdown",
   "id": "5c939fd6",
   "metadata": {},
   "source": [
    "# Import des données de transaction"
   ]
  },
  {
   "cell_type": "code",
   "execution_count": null,
   "id": "0f748655",
   "metadata": {},
   "outputs": [],
   "source": [
    "# Import et première vu du fichier transaction\n",
    "\n",
    "datatransactions = pd.read_csv(\"Data/raw_data/transactions.csv\")\n",
    "datatransactions"
   ]
  },
  {
   "cell_type": "markdown",
   "id": "e08ad192",
   "metadata": {},
   "source": [
    "# Vérification des données de transaction"
   ]
  },
  {
   "cell_type": "code",
   "execution_count": null,
   "id": "84083e85",
   "metadata": {},
   "outputs": [],
   "source": [
    "# Info du DataFrame\n",
    "\n",
    "datatransactions.info()"
   ]
  },
  {
   "cell_type": "code",
   "execution_count": null,
   "id": "b4db39ca",
   "metadata": {},
   "outputs": [],
   "source": [
    "# Recherche des valeurs null\n",
    "\n",
    "print(datatransactions.isnull().sum())"
   ]
  },
  {
   "cell_type": "code",
   "execution_count": null,
   "id": "8099b510",
   "metadata": {},
   "outputs": [],
   "source": [
    "# Recherche des doublons\n",
    "\n",
    "datatransactions.loc[datatransactions[['session_id','id_prod','client_id', 'date']].duplicated(keep=False),:]"
   ]
  },
  {
   "cell_type": "code",
   "execution_count": null,
   "id": "cfa2444a",
   "metadata": {},
   "outputs": [],
   "source": [
    "# Classement des dates dans l'ordre décroissant\n",
    "\n",
    "datatransactions.sort_values(by=['date'], ascending=False)"
   ]
  },
  {
   "cell_type": "code",
   "execution_count": null,
   "id": "3d909e3b",
   "metadata": {},
   "outputs": [],
   "source": [
    "#Recherche des 'date' commencant par 'T'\n",
    "\n",
    "datatransactions[datatransactions['date'].str.contains('t', 'T')]"
   ]
  },
  {
   "cell_type": "markdown",
   "id": "6d21d0cc",
   "metadata": {},
   "source": [
    "# Nettoyage des données transactions"
   ]
  },
  {
   "cell_type": "code",
   "execution_count": null,
   "id": "3a0502f9",
   "metadata": {},
   "outputs": [],
   "source": [
    "datatransactions = datatransactions.drop(datatransactions[datatransactions['id_prod'] == 'T_0'].index)"
   ]
  },
  {
   "cell_type": "code",
   "execution_count": null,
   "id": "de7a7dfa",
   "metadata": {},
   "outputs": [],
   "source": [
    "datatransactions['date'] = pd.to_datetime(datatransactions['date']).dt.normalize()\n",
    "datatransactions['date']"
   ]
  },
  {
   "cell_type": "code",
   "execution_count": null,
   "id": "a2cae162",
   "metadata": {},
   "outputs": [],
   "source": [
    "datatransactions"
   ]
  },
  {
   "cell_type": "markdown",
   "id": "2a37b535",
   "metadata": {},
   "source": [
    "\n",
    "# Merge\n",
    "---"
   ]
  },
  {
   "cell_type": "code",
   "execution_count": null,
   "id": "41e4a1f2",
   "metadata": {},
   "outputs": [],
   "source": [
    "# Jointure test pour constater les données manquantes\n",
    "\n",
    "dataV2 = pd.merge(dataproducts, datatransactions, how=\"outer\", on=[\"id_prod\"])\n",
    "dataV2"
   ]
  },
  {
   "cell_type": "code",
   "execution_count": null,
   "id": "ec3f09f9",
   "metadata": {},
   "outputs": [],
   "source": [
    "Val_nul = dataV2[dataV2['price'].isnull()]\n",
    "Val_nul.nunique()"
   ]
  },
  {
   "cell_type": "markdown",
   "id": "093d52bb",
   "metadata": {},
   "source": [
    "**On remarque un produit vendu 221 fois mais sans prix ni catégorie !**\n",
    "\n",
    "- Cependant on constate que l'id_prod est construit a l'aide de la catégorie (le premier chiffre représente la catégorie)\n"
   ]
  },
  {
   "cell_type": "code",
   "execution_count": null,
   "id": "24523ea7",
   "metadata": {},
   "outputs": [],
   "source": [
    "# Recherche du prix moyen des produits de la catégorie 0\n",
    "\n",
    "mean_price = dataproducts.groupby('categ').mean().reset_index()\n",
    "mean_price = mean_price[mean_price['categ'] == 0]\n",
    "mean_price = round(mean_price['price'])\n",
    "mean_price"
   ]
  },
  {
   "cell_type": "code",
   "execution_count": null,
   "id": "d16665da",
   "metadata": {},
   "outputs": [],
   "source": [
    "# Ajout du produit manquant dans le fichier produit avec les données recolté (catégorie + prix moyen)\n",
    "\n",
    "dataproducts = dataproducts.append({'id_prod':'0_2245','price':12.0,'categ': 0}, ignore_index=True)"
   ]
  },
  {
   "cell_type": "code",
   "execution_count": null,
   "id": "89f1f691",
   "metadata": {},
   "outputs": [],
   "source": [
    "dataproducts[dataproducts['id_prod'] == '0_2245']"
   ]
  },
  {
   "cell_type": "code",
   "execution_count": null,
   "id": "b1a6e6fe",
   "metadata": {},
   "outputs": [],
   "source": [
    "# Vérification des valeurs nulles\n",
    "\n",
    "dataV2.isnull().sum()"
   ]
  },
  {
   "cell_type": "markdown",
   "id": "70c4e15e",
   "metadata": {},
   "source": [
    "- On constate qu'il y'a 21 produits non vendu !"
   ]
  },
  {
   "cell_type": "code",
   "execution_count": null,
   "id": "628ed1e9",
   "metadata": {},
   "outputs": [],
   "source": [
    "# Jointure test pour constater les données manquantes\n",
    "\n",
    "dataV3 = pd.merge(datacustomers, datatransactions, how=\"outer\", on=[\"client_id\"])\n",
    "dataV3"
   ]
  },
  {
   "cell_type": "code",
   "execution_count": null,
   "id": "56b63083",
   "metadata": {},
   "outputs": [],
   "source": [
    "# Recherche des valeurs nulles\n",
    "\n",
    "dataV3.isnull().sum()"
   ]
  },
  {
   "cell_type": "markdown",
   "id": "733c0c3f",
   "metadata": {},
   "source": [
    "- On constate qu'il y'a 21 clients inactif !"
   ]
  },
  {
   "cell_type": "code",
   "execution_count": null,
   "id": "f63641de",
   "metadata": {},
   "outputs": [],
   "source": [
    "dataV1 = pd.merge(dataproducts, datatransactions, how=\"inner\", on=[\"id_prod\"])\n",
    "dataV1"
   ]
  },
  {
   "cell_type": "code",
   "execution_count": null,
   "id": "a1214fed",
   "metadata": {},
   "outputs": [],
   "source": [
    "# Reprise du DataFrame avec une jointure interne pour ne pas prendre les clients inactif et les produits non-vendu !\n",
    "\n",
    "data = pd.merge(dataV1, datacustomers, how=\"inner\", on=[\"client_id\"])\n",
    "data"
   ]
  },
  {
   "cell_type": "markdown",
   "id": "bef8901f",
   "metadata": {},
   "source": [
    "## *Calcul et ajout de l'age*"
   ]
  },
  {
   "cell_type": "code",
   "execution_count": null,
   "id": "9a7179a9",
   "metadata": {},
   "outputs": [],
   "source": [
    "data = data.assign(age = 2023 - data['birth'])\n",
    "data"
   ]
  },
  {
   "cell_type": "markdown",
   "id": "0955335c",
   "metadata": {},
   "source": [
    "## *Classement par groupe d'age*"
   ]
  },
  {
   "cell_type": "code",
   "execution_count": null,
   "id": "e45baca8",
   "metadata": {},
   "outputs": [],
   "source": [
    "# Création d'une colonne 'Groupe' et ajout du nom du groupe\n",
    "\n",
    "data['Groupe'] = 'test'\n",
    "\n",
    "data.loc[data['age'] < 30,['Groupe']] = '- 30 ans'\n",
    "data.loc[(data['age'] >= 30) & (data['age'] < 50),['Groupe']] = '30-50 ans'\n",
    "data.loc[(data['age'] >= 50) & (data['age'] < 70),['Groupe']] = '50-70 ans'\n",
    "data.loc[(data['age'] >= 70),['Groupe']] = '+ 70 ans'\n",
    "\n",
    "# Mettre les différents groupe dans l'ordre croissants\n",
    "\n",
    "order = ['- 30 ans', '30-50 ans', '50-70 ans', '+ 70 ans']\n",
    "data = data.reindex(data['Groupe'].map(dict(zip(order, range(len(order))))).sort_values().index)\n",
    "data"
   ]
  },
  {
   "cell_type": "code",
   "execution_count": null,
   "id": "f5473ddc",
   "metadata": {},
   "outputs": [],
   "source": [
    "# Vérification des groupes d'age\n",
    "\n",
    "data[data['Groupe'] == 'test']"
   ]
  },
  {
   "cell_type": "markdown",
   "id": "af5ca89d",
   "metadata": {},
   "source": [
    "# <center>**Demandes d'Antoine**\n",
    "---"
   ]
  },
  {
   "cell_type": "markdown",
   "id": "c5c5bee6",
   "metadata": {},
   "source": [
    "## <center>Analyse des tendance du CA"
   ]
  },
  {
   "cell_type": "markdown",
   "id": "267d2720",
   "metadata": {},
   "source": [
    "### *Chiffre d'affaire total*"
   ]
  },
  {
   "cell_type": "code",
   "execution_count": null,
   "id": "b3b77147",
   "metadata": {},
   "outputs": [],
   "source": [
    "CA = round(data['price'].sum(),2)\n",
    "print(\"Chiffre d'affaire total :\", CA, \"€\")"
   ]
  },
  {
   "cell_type": "markdown",
   "id": "8acb36b2",
   "metadata": {},
   "source": [
    "### *Chiffre d'affaire dans le temp*"
   ]
  },
  {
   "cell_type": "code",
   "execution_count": null,
   "id": "d7540e5c",
   "metadata": {},
   "outputs": [],
   "source": [
    "CAtemp = data.groupby(by=['date']).sum().reset_index()\n",
    "CAtemp['date'] = pd.to_datetime (CAtemp['date'])\n",
    "CAtemp = CAtemp.rename(columns={'price':'CA'})\n",
    "CAtemp['CA'] = round(CAtemp['CA'])\n",
    "CAtemp = CAtemp[['date','CA']]\n",
    "CAtemp"
   ]
  },
  {
   "cell_type": "code",
   "execution_count": null,
   "id": "17e4aaa3",
   "metadata": {},
   "outputs": [],
   "source": [
    "CAtemp.plot.line(y='CA', x = 'date',figsize=(15, 8))\n",
    "plt.title(\"Etude du chiffre d'affaire dans le temps\", size = 20)\n",
    "plt.ylabel(\"Chiffre d'affaire\", fontsize= 15)\n",
    "plt.xlabel(\"Temps\", fontsize= 15)\n",
    "plt.show()"
   ]
  },
  {
   "cell_type": "code",
   "execution_count": null,
   "id": "de1a139d",
   "metadata": {},
   "outputs": [],
   "source": [
    "# Décomposition en moyenne mobile\n",
    "\n",
    "CAmoymobile = CAtemp\n",
    "CAmoymobile['CA'] = CAmoymobile['CA'].rolling(4).mean()\n",
    "CAmoymobile.plot.line(y='CA', x = 'date',figsize=(15, 8))\n",
    "plt.title(\"Etude du chiffre d'affaire dans le temps\", size = 20)\n",
    "plt.ylabel(\"Chiffre d'affaire\", fontsize= 15)\n",
    "plt.xlabel(\"Temps\", fontsize= 15)\n",
    "plt.show()"
   ]
  },
  {
   "cell_type": "markdown",
   "id": "8ffcf58e",
   "metadata": {},
   "source": [
    "- Légère augmentation mois de septembre de l'année 2021 !\n",
    "- Grosse baisse du mois d'octobre au mois de novembre de l'année 2021 !\n",
    "- Légère augmentation mois de février de l'année 2022 !"
   ]
  },
  {
   "cell_type": "code",
   "execution_count": null,
   "id": "0aec931b",
   "metadata": {},
   "outputs": [],
   "source": [
    "Oct_2021 = data\n",
    "Oct_2021['year'] = pd.DatetimeIndex(Oct_2021['date']).year.astype(str)\n",
    "Oct_2021['month'] = pd.DatetimeIndex(Oct_2021['date']).month.astype(str)\n",
    "Oct_2021['Mois-Année'] = Oct_2021['month']+'-'+Oct_2021['year']\n",
    "Oct_2021 = Oct_2021[Oct_2021['Mois-Année'] == '10-2021']\n",
    "CA_Categ_Oct_2021 = Oct_2021.groupby('categ').sum()\n",
    "CA_Categ_Oct_2021 = CA_Categ_Oct_2021[['price']].reset_index()\n",
    "CA_Categ_Oct_2021 = CA_Categ_Oct_2021.rename(columns={'price':'CA'})\n",
    "CA_Categ_Oct_2021"
   ]
  },
  {
   "cell_type": "markdown",
   "id": "14ef226a",
   "metadata": {},
   "source": [
    "- Faible chiffre d'affaire pour la catégorie 1 & 2 au mois d'Octobre 2021"
   ]
  },
  {
   "cell_type": "markdown",
   "id": "d173fea6",
   "metadata": {},
   "source": [
    "### *Comparaison des chiffre d'affaire par mois sur chaque années*"
   ]
  },
  {
   "cell_type": "code",
   "execution_count": null,
   "id": "482005c5",
   "metadata": {},
   "outputs": [],
   "source": [
    "CAtempV2 = CAtemp\n",
    "CAtempV2['year'] = pd.DatetimeIndex(CAtempV2['date']).year\n",
    "CAtempV2['month'] = pd.DatetimeIndex(CAtempV2['date']).month\n",
    "CAtempV2 = CAtempV2.groupby(by=['year','month']).sum()\n",
    "CAtempV2 = CAtempV2.unstack('year').reset_index()\n",
    "CAtempV2"
   ]
  },
  {
   "cell_type": "markdown",
   "id": "83681cdb",
   "metadata": {},
   "source": [
    "- Il manque les données des 2 premier mois de l'année 2021\n",
    "- Nous avons seulement les donnée des 2 premiers moi de l'année 2023"
   ]
  },
  {
   "cell_type": "code",
   "execution_count": null,
   "id": "3af0877d",
   "metadata": {},
   "outputs": [],
   "source": [
    "CAtempV2.plot.area(x = 'month',stacked=False ,figsize=(15, 8))\n",
    "plt.title(\"Etude du CA par mois sur les 3 années d'activité\", size = 20)\n",
    "plt.xlabel(\"Mois de l'année\", size = 15)\n",
    "plt.ylabel(\"Chiffre d'affaire\", size = 15)\n",
    "plt.show()"
   ]
  },
  {
   "cell_type": "markdown",
   "id": "5c76cfc1",
   "metadata": {},
   "source": [
    "**2021**\n",
    "- Données débutant à partir du mois de février\n",
    "- Grosse baisse du CA au mois d'octobre\n",
    "- Belle augmentation en général\n",
    "\n",
    "**2022**\n",
    "- CA qui augmente et diminue légèrement tout les 2 mois environ\n",
    "- Stagnation du CA\n",
    "\n",
    "**2023**\n",
    "- Données des 2 premiers mois seulement\n",
    "- Diminution du CA entre le 1er et le 2ème mois"
   ]
  },
  {
   "cell_type": "code",
   "execution_count": null,
   "id": "115b744f",
   "metadata": {},
   "outputs": [],
   "source": [
    "CA_moy_mois = CAtemp\n",
    "CA_moy_mois['year'] = pd.DatetimeIndex(CA_moy_mois['date']).year\n",
    "CA_moy_mois['month'] = pd.DatetimeIndex(CA_moy_mois['date']).month\n",
    "CA_moy_mois = CA_moy_mois.groupby(by=['year','month']).sum().reset_index()\n",
    "CA_moy_mois = round(CA_moy_mois.groupby(by=['year']).mean().reset_index())\n",
    "CA_moy_mois"
   ]
  },
  {
   "cell_type": "code",
   "execution_count": null,
   "id": "c1f1d2c2",
   "metadata": {},
   "outputs": [],
   "source": [
    "CA_moy_mois.plot.bar(y='CA', x='year', figsize=(15, 8))\n",
    "plt.title(\"Chiffre d'affaire moyen mensuel de chaque année\", size = 20)\n",
    "plt.ylabel(\"Chiffre d'affaire \", size = 15)\n",
    "plt.xlabel(\"Année d'activité\", size = 15)\n",
    "#plt.savefig('test')\n",
    "plt.show()"
   ]
  },
  {
   "cell_type": "markdown",
   "id": "0aa48eda",
   "metadata": {},
   "source": [
    "**Top 1**\n",
    "- Année 2022 avec un chiffre d'affaire moyen par mois de plus de 500 000€\n",
    "\n",
    "**Top 2**\n",
    "- Année 2023 avec un chiffre d'affaire moyen par mois de proche de 500 000€\n",
    "\n",
    "**Top 3**\n",
    "- Année 2021 avec un chiffre d'affaire moyen légèrement infèrieur à celui de 2023"
   ]
  },
  {
   "cell_type": "markdown",
   "id": "046ea4d7",
   "metadata": {},
   "source": [
    "### *Chiffre d'affaire par année*"
   ]
  },
  {
   "cell_type": "code",
   "execution_count": null,
   "id": "5e237db7",
   "metadata": {},
   "outputs": [],
   "source": [
    "CAyear = data.groupby(pd.Grouper(key='date', freq='Y')).sum().reset_index()\n",
    "CAyear['date'] = pd.DatetimeIndex(CAyear['date']).year\n",
    "CAyear = CAyear.rename(columns={'price':'CA'})\n",
    "CAyear = CAyear[['date','CA']]\n",
    "CAyear"
   ]
  },
  {
   "cell_type": "code",
   "execution_count": null,
   "id": "dbb910b3",
   "metadata": {},
   "outputs": [],
   "source": [
    "CAyear.plot.bar(y='CA', x='date', figsize=(15, 8))\n",
    "plt.title(\"Chiffre d'affaire annuel\", size = 20)\n",
    "plt.ylabel(\"Chiffre d'affaire (en million)\", size = 15)\n",
    "plt.xlabel(\"Année d'activité\", size = 15)\n",
    "plt.show()"
   ]
  },
  {
   "cell_type": "markdown",
   "id": "6bc1e417",
   "metadata": {},
   "source": [
    "**2021**\n",
    "- CA atteignant presque les 5 million d'euro\n",
    "\n",
    "**2022**\n",
    "- CA dépassant les 6 million d'euro\n",
    "\n",
    "**2023**\n",
    "- CA atteignant presque les 1 million d'euro (seulement les 2 premiers mois)"
   ]
  },
  {
   "cell_type": "markdown",
   "id": "1b7034df",
   "metadata": {},
   "source": [
    "### *Chiffre d'affaire par catégorie*"
   ]
  },
  {
   "cell_type": "code",
   "execution_count": null,
   "id": "a764a015",
   "metadata": {},
   "outputs": [],
   "source": [
    "CAcateg = data.groupby(by=['categ']).sum()\n",
    "CAcateg = CAcateg.rename(columns={'price':'CA'})\n",
    "CAcateg = CAcateg[['CA']]\n",
    "CAcateg"
   ]
  },
  {
   "cell_type": "code",
   "execution_count": null,
   "id": "b2d9f539",
   "metadata": {},
   "outputs": [],
   "source": [
    "colors = sns.color_palette(\"muted\")\n",
    "CAcateg.plot.pie(y = 'CA', colors = colors, figsize=(11, 11), autopct = \"%1.1f%%\")\n",
    "plt.title(\"Répartition du chiffre d'affaire par catégorie\", size = 20)\n",
    "plt.legend(['Catégorie 0','Catégorie 1','Catégorie 2'], fontsize = 15)\n",
    "plt.show()"
   ]
  },
  {
   "cell_type": "markdown",
   "id": "cf0b2ee7",
   "metadata": {},
   "source": [
    "**La catégorie qui effectue le plus gros chiffre d'affaire est la catégorie 1 !**\n",
    "\n",
    "- La catégorie 0 est très proche de la catégorie 1 : une différence d'environ 2%\n",
    "- La catégorie 2 est la catégorie qui fait le moin de chiffre d'affaire : néanmoin elle s'approche des 25%"
   ]
  },
  {
   "cell_type": "markdown",
   "id": "7766a733",
   "metadata": {},
   "source": [
    "### *Chiffre d'affaire par genre*"
   ]
  },
  {
   "cell_type": "code",
   "execution_count": null,
   "id": "f3dc07d6",
   "metadata": {},
   "outputs": [],
   "source": [
    "CAgenre = data.groupby(by=['sex']).sum()\n",
    "CAgenre = CAgenre.rename(columns={'price':'CA'})\n",
    "CAgenre = CAgenre[['CA']]\n",
    "CAgenre"
   ]
  },
  {
   "cell_type": "code",
   "execution_count": null,
   "id": "a0eb967f",
   "metadata": {},
   "outputs": [],
   "source": [
    "CAgenre.plot.pie(y = 'CA', colors = colors, figsize=(11, 11), autopct = \"%1.1f%%\")\n",
    "plt.title(\"Répartition du chiffre d'affaire par genre\", size = 20)\n",
    "plt.legend(['Femme', 'Homme'], fontsize = 15)\n",
    "plt.show()"
   ]
  },
  {
   "cell_type": "markdown",
   "id": "2f115e0e",
   "metadata": {},
   "source": [
    "**La majorité du chiffre d'affaire est réaliser par les hommes !**\n",
    "\n",
    "Cependant nous somme trés proche d'une égalité du CA entre homme et femme"
   ]
  },
  {
   "cell_type": "markdown",
   "id": "fa9a21f4",
   "metadata": {},
   "source": [
    "### Répartition du chiffre d'affaire"
   ]
  },
  {
   "cell_type": "code",
   "execution_count": null,
   "id": "6fd4330d",
   "metadata": {},
   "outputs": [],
   "source": [
    "CA_Client = data.groupby('client_id').sum()\n",
    "CA_Client = CA_Client.rename(columns={'price':'CA'})\n",
    "CA_Client = CA_Client['CA'].reset_index()\n",
    "CA_Client.sort_values(by=[\"CA\"], ascending=False)"
   ]
  },
  {
   "cell_type": "markdown",
   "id": "0fd4ee50",
   "metadata": {},
   "source": [
    "**On remarque 4 clients avec un chiffre d'affaire générer trés important !**\n",
    "\n",
    "- On concidère ces clients comme des clients professionnel"
   ]
  },
  {
   "cell_type": "code",
   "execution_count": null,
   "id": "cee7d7a6",
   "metadata": {},
   "outputs": [],
   "source": [
    "# Courbe de Lorenz\n",
    "def lorenz(variable, title):\n",
    "    X = variable.values\n",
    "    X = np.sort(X)\n",
    "    \n",
    "    # Indice de Gini\n",
    "    def gini(array):\n",
    "        array\n",
    "        sorted_array = array.copy()\n",
    "        sorted_array.sort()\n",
    "        n = array.size\n",
    "        coef_ = 2. / n\n",
    "        const_ = (n + 1.) / n\n",
    "        weighted_sum = sum([(i+1)*yi for i, yi in enumerate(sorted_array)])\n",
    "        return coef_*weighted_sum/(sorted_array.sum()) - const_\n",
    "    print('Incide de Gini :', round(gini(X), 2))\n",
    "    \n",
    "    # Courbe de Lorenz\n",
    "    X_lorenz = X.cumsum() / X.sum()\n",
    "    X_lorenz = np.insert(X_lorenz, 0, 0)\n",
    "    # X_lorenz[0], X_lorenz[-1]\n",
    "    y = np.arange(X_lorenz.size)/(X_lorenz.size-1)\n",
    "    lorenz = pd.DataFrame()\n",
    "    lorenz['X'] = pd.Series(X_lorenz)\n",
    "    lorenz['Y'] = pd.Series(y)\n",
    "    sns.scatterplot(data=lorenz, x='Y', y='X', marker='x')\n",
    "\n",
    "    # Diagonale\n",
    "    a = np.arange(0,1,.01)\n",
    "    x = a\n",
    "    y = a\n",
    "    \n",
    "    # Graphique\n",
    "    sns.lineplot(x=x,y=y)\n",
    "    plt.xlim([0,1])\n",
    "    plt.ylim([0,1])\n",
    "    plt.title(title)\n",
    "    plt.xlabel(\"Distribution des clients (%)\")\n",
    "    plt.ylabel(\"Cumul du chiffre d'affaire (%)\")\n",
    "    plt.show()\n",
    "    \n",
    "lorenz(CA_Client['CA'], 'Inégalités de CA entre tous les clients')"
   ]
  },
  {
   "cell_type": "markdown",
   "id": "12b8c1e4",
   "metadata": {},
   "source": [
    "## <center>Analyse de tendance des produits"
   ]
  },
  {
   "cell_type": "markdown",
   "id": "71947a8c",
   "metadata": {},
   "source": [
    "### *Chiffre d'affaire par produit*"
   ]
  },
  {
   "cell_type": "code",
   "execution_count": null,
   "id": "5a672707",
   "metadata": {},
   "outputs": [],
   "source": [
    "CAprod = data.groupby(by=['id_prod']).sum().reset_index()\n",
    "CAprod = CAprod.rename(columns={'price':'CA'})\n",
    "CAprod = CAprod[['id_prod','CA']]\n",
    "print(\"Liste des produits et chiffre d'affaire effectuer :\")\n",
    "CAprod"
   ]
  },
  {
   "cell_type": "markdown",
   "id": "7a2ae235",
   "metadata": {},
   "source": [
    "### *Top 10 des tops produits*"
   ]
  },
  {
   "cell_type": "code",
   "execution_count": null,
   "id": "6daac616",
   "metadata": {},
   "outputs": [],
   "source": [
    "CAprod.sort_values(by=[\"CA\"], ascending=False).head(10)"
   ]
  },
  {
   "cell_type": "code",
   "execution_count": null,
   "id": "8517cc99",
   "metadata": {},
   "outputs": [],
   "source": [
    "top_10_CAprod = CAprod.sort_values(by=[\"CA\"], ascending=False).head(10)\n",
    "top_10_CAprod.sort_values(by=[\"CA\"], ascending=True).plot.barh(x = 'id_prod',figsize=(15, 8))\n",
    "plt.title(\"Top 10 des produits avec le plus gros CA\", size = 20)\n",
    "plt.ylabel(\"Produits\", size = 15)\n",
    "plt.xlabel(\"Chiffre d'affaire\", size = 15)\n",
    "plt.show()"
   ]
  },
  {
   "cell_type": "markdown",
   "id": "67eefef0",
   "metadata": {},
   "source": [
    "Le produit 2_159 est un **Best-Seller** qui atteind presque les **100 000€** de chiffre d'affaire !"
   ]
  },
  {
   "cell_type": "markdown",
   "id": "120d608e",
   "metadata": {},
   "source": [
    "### *Top 10 des produits les plus vendu*"
   ]
  },
  {
   "cell_type": "code",
   "execution_count": null,
   "id": "c93364c6",
   "metadata": {},
   "outputs": [],
   "source": [
    "Nbprod = data.groupby(by=['id_prod']).count().reset_index()\n",
    "Nbprod = Nbprod.rename(columns={'price':'NbVendu'})\n",
    "Nbprod = Nbprod[['id_prod','NbVendu']]\n",
    "Nbprod.sort_values(by=['NbVendu'], ascending=False).head(10)"
   ]
  },
  {
   "cell_type": "code",
   "execution_count": null,
   "id": "db950bf4",
   "metadata": {},
   "outputs": [],
   "source": [
    "top_10_vente = Nbprod.sort_values(by=['NbVendu'], ascending=False).head(10)\n",
    "top_10_vente.sort_values(by=[\"NbVendu\"], ascending=True).plot.barh(x = 'id_prod',figsize=(15, 8))\n",
    "plt.title(\"Top 10 des produits les plus vendu\", size = 20)\n",
    "plt.ylabel(\"Produits\", size = 15)\n",
    "plt.xlabel(\"Nombre de vente\", size = 15)\n",
    "plt.show()"
   ]
  },
  {
   "cell_type": "markdown",
   "id": "78c3b3a2",
   "metadata": {},
   "source": [
    "### *Top 10 des flop produits*"
   ]
  },
  {
   "cell_type": "code",
   "execution_count": null,
   "id": "640afbdb",
   "metadata": {},
   "outputs": [],
   "source": [
    "CAprod.sort_values(by=[\"CA\"], ascending=True).head(10)"
   ]
  },
  {
   "cell_type": "code",
   "execution_count": null,
   "id": "4900f69b",
   "metadata": {},
   "outputs": [],
   "source": [
    "flop_10_CAprod = CAprod.sort_values(by=[\"CA\"], ascending=True).head(10)\n",
    "flop_10_CAprod.sort_values(by=[\"CA\"], ascending=False).plot.barh(x = 'id_prod',figsize=(15, 8))\n",
    "plt.title(\"Flop 10 des produits avec le moins de CA\", size = 20)\n",
    "plt.ylabel(\"Produits\", size = 15)\n",
    "plt.xlabel(\"Chiffre d'affaire\", size = 15)\n",
    "plt.show()"
   ]
  },
  {
   "cell_type": "markdown",
   "id": "f0a18caf",
   "metadata": {},
   "source": [
    "### *Produits les moins vendu*"
   ]
  },
  {
   "cell_type": "code",
   "execution_count": null,
   "id": "98f1a3c1",
   "metadata": {},
   "outputs": [],
   "source": [
    "# Liste des produits avec moins de 10 exemplaires vendu\n",
    "\n",
    "Nbprod[Nbprod['NbVendu']< 10]"
   ]
  },
  {
   "cell_type": "markdown",
   "id": "3ab33eb4",
   "metadata": {},
   "source": [
    "**466 produits avec un nombre de vente infèrieur à 10 ventes !**"
   ]
  },
  {
   "cell_type": "markdown",
   "id": "628ad9f1",
   "metadata": {},
   "source": [
    "### *Moyenne de prix des categorie*"
   ]
  },
  {
   "cell_type": "code",
   "execution_count": null,
   "id": "1019be51",
   "metadata": {},
   "outputs": [],
   "source": [
    "MoyPrixCateg = data.groupby(by=['categ']).mean()\n",
    "MoyPrixCateg = MoyPrixCateg[['price']].reset_index()\n",
    "round(MoyPrixCateg)"
   ]
  },
  {
   "cell_type": "code",
   "execution_count": null,
   "id": "7b73a950",
   "metadata": {},
   "outputs": [],
   "source": [
    "round(MoyPrixCateg).plot.bar(x='categ', y='price', figsize=(15, 8))\n",
    "plt.title(\"Prix moyen d'un produit par catégorie\", size = 20)\n",
    "plt.ylabel(\"Prix (en €)\", size = 15)\n",
    "plt.xlabel(\"Catégorie\", size = 15)\n",
    "plt.show()"
   ]
  },
  {
   "cell_type": "markdown",
   "id": "ace907b5",
   "metadata": {},
   "source": [
    "**Prix moyen des produits par catégories :**\n",
    "\n",
    "- Categ 0 : 11€\n",
    "- Categ 1 : 20€\n",
    "- Categ 2 : 76€"
   ]
  },
  {
   "cell_type": "markdown",
   "id": "dbd75712",
   "metadata": {},
   "source": [
    "### *Quantité de produits et  quantité de produits par catégorie*"
   ]
  },
  {
   "cell_type": "code",
   "execution_count": null,
   "id": "634806f8",
   "metadata": {},
   "outputs": [],
   "source": [
    "# Nombre total de produits différents vendu !\n",
    "\n",
    "NbProdVendu = data['id_prod'].nunique()\n",
    "print(\"Durant la période étudier\", NbProdVendu,\"produits différent ont été vendu !\")"
   ]
  },
  {
   "cell_type": "code",
   "execution_count": null,
   "id": "dc89b89f",
   "metadata": {},
   "outputs": [],
   "source": [
    "# Répartition des produits par catégorie !\n",
    "\n",
    "QteProdCateg = data.groupby('categ')['id_prod'].nunique()\n",
    "QteProdCateg.plot.pie(colors = colors, figsize=(11, 11), autopct = \"%1.1f%%\")\n",
    "plt.title(\"Répartition du nombre de produits vendu par catégorie\", size = 20)\n",
    "plt.legend(['Catégorie 0','Catégorie 1','Catégorie 2'], fontsize = 15)\n",
    "plt.show()"
   ]
  },
  {
   "cell_type": "markdown",
   "id": "e5c85bd2",
   "metadata": {},
   "source": [
    "- La majorité des produits vendu font parti de la catégorie 0, avec plus de 70% des ventes !\n",
    "\n",
    "- La catégorie 1 est proche des 25%\n",
    "\n",
    "- Un peu plus de 7% pour la catégorie 2\n",
    "\n",
    "**En comparant la répartition des vente par catégorie ainsi que le prix moyen par catégorie, on peu constater que moins le prix moyen est élever plus les produits sont vendu !**"
   ]
  },
  {
   "cell_type": "markdown",
   "id": "f40dd8f8",
   "metadata": {},
   "source": [
    "## <center>Analyse de tendance profil client"
   ]
  },
  {
   "cell_type": "markdown",
   "id": "631f1d42",
   "metadata": {},
   "source": [
    "### *Moyenne d'age par catégorie*"
   ]
  },
  {
   "cell_type": "code",
   "execution_count": null,
   "id": "bb68f13a",
   "metadata": {},
   "outputs": [],
   "source": [
    "age_categ = data.groupby(by=['categ']).mean()\n",
    "age_categ = age_categ.rename(columns={'age':'Moy age'})\n",
    "age_categ = round(age_categ[['Moy age']])\n",
    "age_categ.plot.bar(figsize=(15, 8))\n",
    "plt.title(\"Moyenne d'age pour chaque catégories\", size= 20)\n",
    "plt.ylabel(\"Age\", size= 15)\n",
    "plt.xlabel(\"Catégorie\", size= 15)\n",
    "plt.show()\n",
    "print(age_categ)"
   ]
  },
  {
   "cell_type": "markdown",
   "id": "740089e1",
   "metadata": {},
   "source": [
    "- La catégorie 0 a une moyenne d'age de : 45 ans\n",
    "- La catégorie 1 a une moyenne d'age de : 49 ans\n",
    "- La catégorie 2 a une moyenne d'age de : 27 ans\n",
    "\n",
    "**Ici on remarque que la moyenne d'age de la catégorie 2 est la plus basse, donc on suppose que la catégorie 2 est une catégorie dédier à un public plus jeune !**"
   ]
  },
  {
   "cell_type": "markdown",
   "id": "00008e17",
   "metadata": {},
   "source": [
    "### *Chiffre d'affaire par age*"
   ]
  },
  {
   "cell_type": "code",
   "execution_count": null,
   "id": "1f1c8a1a",
   "metadata": {},
   "outputs": [],
   "source": [
    "ageCA = data.groupby(by='age').sum()\n",
    "ageCA = ageCA.rename(columns={'price':'CA'})\n",
    "ageCA = ageCA[['CA']].reset_index()\n",
    "\n",
    "ageCA.plot.scatter(y= 'CA',x= 'age', figsize=(15, 8))\n",
    "plt.title(\"Chiffre d'affaire en fonction de l'age des clients\", size=20)\n",
    "plt.xlabel(\"Age\", size= 15)\n",
    "plt.ylabel(\"Chiffre d'affaire\", size= 15)\n",
    "plt.show()"
   ]
  },
  {
   "cell_type": "markdown",
   "id": "d673e0e3",
   "metadata": {},
   "source": [
    "- Augmentation du CA en fonction de l'age : entre 20 et 45 ans\n",
    "- Diminution du CA en fonction de l'age : à partir de 45 ans"
   ]
  },
  {
   "cell_type": "markdown",
   "id": "880ac0ba",
   "metadata": {},
   "source": [
    "### *Montant du panier par age*"
   ]
  },
  {
   "cell_type": "code",
   "execution_count": null,
   "id": "63cfeb5d",
   "metadata": {},
   "outputs": [],
   "source": [
    "Age_Panier_Moy = data.groupby(['age','session_id']).sum()\n",
    "Age_Panier_Moy = Age_Panier_Moy.groupby(['age']).mean()\n",
    "Age_Panier_Moy = Age_Panier_Moy.rename(columns={'price':'Prix (en €)'})\n",
    "Age_Panier_Moy = Age_Panier_Moy[['Prix (en €)']].reset_index()\n",
    "\n",
    "Age_Panier_Moy.plot.scatter(y= 'Prix (en €)',x= 'age', figsize=(15, 8))\n",
    "plt.title(\"Montant du panier moyen par age\", size=20)\n",
    "plt.xlabel(\"Age\", size= 15)\n",
    "plt.ylabel(\"Prix (en €)\", size= 15)\n",
    "plt.show()"
   ]
  },
  {
   "cell_type": "markdown",
   "id": "5cd47ca6",
   "metadata": {},
   "source": [
    "**On distingue 3 groupes :**\n",
    "\n",
    "- Les moins de 30 ans ont les plus gros panier moyen (environ 70€)\n",
    "\n",
    "- Les 30, 50 ans ont environ un panier moyen de 33€\n",
    "\n",
    "- Les 50 ans et plus ont environ un panier moyen de 25€\n",
    "\n",
    "**Le montant le plus élever etant celui des personne ayant moin de 30 ans, nous supposons qu'ils achète majoritairement des produits de la catégorie 2, qui est la plus chère !**\n",
    "\n",
    "**Et comme nous l'avons remarquer cette catégorie est dédier à un public jeune !**"
   ]
  },
  {
   "cell_type": "markdown",
   "id": "a36236ff",
   "metadata": {},
   "source": [
    "### *Répartition des clients par groupe d'age*"
   ]
  },
  {
   "cell_type": "markdown",
   "id": "a9aad2ce",
   "metadata": {},
   "source": [
    "**Réalisation des groupe d'age en fonction du montant du panier moyen par age**"
   ]
  },
  {
   "cell_type": "code",
   "execution_count": null,
   "id": "b45854d5",
   "metadata": {},
   "outputs": [],
   "source": [
    "# Groupe des moins de 30 ans\n",
    "\n",
    "group1 = data[data['Groupe'] == \"- 30 ans\"]\n",
    "group1"
   ]
  },
  {
   "cell_type": "code",
   "execution_count": null,
   "id": "2c5e60ba",
   "metadata": {},
   "outputs": [],
   "source": [
    "# Groupe des 30-50 ans\n",
    "\n",
    "group2 = data[data['Groupe'] == \"30-50 ans\"]\n",
    "group2"
   ]
  },
  {
   "cell_type": "code",
   "execution_count": null,
   "id": "67cf2755",
   "metadata": {},
   "outputs": [],
   "source": [
    "# Groupe des 50-70 ans\n",
    "\n",
    "group3 = data[data['Groupe'] == \"50-70 ans\"]\n",
    "group3"
   ]
  },
  {
   "cell_type": "code",
   "execution_count": null,
   "id": "f9d4399b",
   "metadata": {},
   "outputs": [],
   "source": [
    "# Groupe des plus de 70 ans\n",
    "\n",
    "group4 = data[data['Groupe'] == \"+ 70 ans\"]\n",
    "group4"
   ]
  },
  {
   "cell_type": "code",
   "execution_count": null,
   "id": "7f4bd14e",
   "metadata": {},
   "outputs": [],
   "source": [
    "datagroup = {'Groupe': ['Moins de 30 ans', '30-50 ans', '50-70 ans', 'Plus de 70 ans'],\n",
    "             'Qte_Client': [group1['client_id'].nunique(), group2['client_id'].nunique(), group3['client_id'].nunique(), group4['client_id'].nunique()],\n",
    "             'Femme': [group1[group1['sex']=='f']['client_id'].nunique(),group2[group2['sex']=='f']['client_id'].nunique(),group3[group3['sex']=='f']['client_id'].nunique(),group4[group4['sex']=='f']['client_id'].nunique()],\n",
    "             'Homme': [group1[group1['sex']=='m']['client_id'].nunique(),group2[group2['sex']=='m']['client_id'].nunique(),group3[group3['sex']=='m']['client_id'].nunique(),group4[group4['sex']=='m']['client_id'].nunique()],\n",
    "             'CA': [round(group1['price'].sum()),round(group2['price'].sum()),round(group3['price'].sum()),round(group4['price'].sum())]\n",
    "            }\n",
    "\n",
    "dfgroup = pd.DataFrame(datagroup)\n",
    "dfgroup = dfgroup.set_index('Groupe')\n",
    "dfgroup"
   ]
  },
  {
   "cell_type": "code",
   "execution_count": null,
   "id": "36d94c3b",
   "metadata": {},
   "outputs": [],
   "source": [
    "data[data['sex'] == \"f\"].nunique()"
   ]
  },
  {
   "cell_type": "code",
   "execution_count": null,
   "id": "4c691576",
   "metadata": {},
   "outputs": [],
   "source": [
    "dfgroup.plot.pie(y = 'Qte_Client', colors = colors, figsize=(11, 11), autopct = \"%1.1f%%\")\n",
    "plt.title(\"Répartition des clients par tranche d'age\", size=20)\n",
    "plt.show()"
   ]
  },
  {
   "cell_type": "markdown",
   "id": "f16994d2",
   "metadata": {},
   "source": [
    "- Le groupe des 30-50 ans est le groupe majoritaire avec presque 40%\n",
    "- Avec presque 30% nous avons le groupe des 50-70 ans\n"
   ]
  },
  {
   "cell_type": "code",
   "execution_count": null,
   "id": "5d201f8f",
   "metadata": {},
   "outputs": [],
   "source": [
    "dfgroup[['Homme', 'Femme']].plot.bar( figsize=(15, 8))\n",
    "plt.title(\"Comparaison du nombre de clients par genre en fonction de la tranche d'age\", size = 20)\n",
    "plt.ylabel(\"Nombre de clients\")\n",
    "plt.xlabel(\"Tranches d'age\")\n",
    "plt.show()"
   ]
  },
  {
   "cell_type": "markdown",
   "id": "fa331992",
   "metadata": {},
   "source": [
    "- Dans chaque groupe d'age nous avons plus de femme que d'homme\n",
    "\n",
    "- Nous avons environ de centaine de femme de plus que d'homme dans chaque groupe"
   ]
  },
  {
   "cell_type": "code",
   "execution_count": null,
   "id": "4cde8411",
   "metadata": {},
   "outputs": [],
   "source": [
    "dfgroup.plot.pie(y = 'CA', colors = colors, figsize=(11, 11), autopct = \"%1.1f%%\")\n",
    "plt.title(\"Répartition du chiffre d'affaire par tranche d'age\", size=20)\n",
    "plt.show()"
   ]
  },
  {
   "cell_type": "markdown",
   "id": "fd9dc275",
   "metadata": {},
   "source": [
    "# <center>**Demandes de Julie**\n",
    "---"
   ]
  },
  {
   "cell_type": "code",
   "execution_count": null,
   "id": "30fa543a",
   "metadata": {},
   "outputs": [],
   "source": [
    "# Suppression des clients professionnel\n",
    "\n",
    "client_pro_1 = data[data['client_id'] == 'c_1609']\n",
    "client_pro_2 = data[data['client_id'] == 'c_4958']\n",
    "client_pro_3 = data[data['client_id'] == 'c_6714']\n",
    "client_pro_4 = data[data['client_id'] == 'c_3454']\n",
    "\n",
    "data = data.drop(client_pro_1.index)\n",
    "data = data.drop(client_pro_2.index)\n",
    "data = data.drop(client_pro_3.index)\n",
    "data = data.drop(client_pro_4.index)"
   ]
  },
  {
   "cell_type": "code",
   "execution_count": null,
   "id": "070b0c95",
   "metadata": {},
   "outputs": [],
   "source": [
    "client_pro_4[client_pro_4['Mois-Année'] == '8-2021']"
   ]
  },
  {
   "cell_type": "code",
   "execution_count": null,
   "id": "b2af8356",
   "metadata": {},
   "outputs": [],
   "source": [
    "# Part du chiffre d'affaire et chiffre d'affaire des clients professionnel\n",
    "\n",
    "CA_Pro = client_pro_1['price'].sum() + client_pro_2['price'].sum() + client_pro_3['price'].sum() + client_pro_4['price'].sum()\n",
    "Part_CA = round((CA_Pro / CA)*100,2)\n",
    "print(\"Les 4 clients professionnels on générer\",Part_CA,\"% du chiffre d'affaire, soit\",CA_Pro,\"€\")"
   ]
  },
  {
   "cell_type": "markdown",
   "id": "7ff9afb3",
   "metadata": {},
   "source": [
    "**On supprime les clients professionnels pour éviter des résultats faussé !**"
   ]
  },
  {
   "cell_type": "code",
   "execution_count": null,
   "id": "6306837e",
   "metadata": {},
   "outputs": [],
   "source": [
    "# Fonction de vérification de la p-value\n",
    "\n",
    "def test_p_values(p):\n",
    "    if p > 0.05:\n",
    "        print(\"Variables indépendantes, car p-value > 5% \")\n",
    "        print(\"Donc les 2 variables ne sont pas corréler !\")\n",
    "        print(\"p-value :\",p)\n",
    "    else:\n",
    "        print(\"On rejète H0, car p-value < 5%\")\n",
    "        print(\"Donc les 2 variables sont corréler !\")\n",
    "        print(\"p-value :\",p)"
   ]
  },
  {
   "cell_type": "markdown",
   "id": "792387ea",
   "metadata": {},
   "source": [
    "### *Corrélation du genre et de la catégorie*"
   ]
  },
  {
   "cell_type": "code",
   "execution_count": null,
   "id": "c8e31f55",
   "metadata": {
    "scrolled": true
   },
   "outputs": [],
   "source": [
    "vente_sex_categ = data.groupby(by=['sex','categ']).count()\n",
    "vente_sex_categ = vente_sex_categ.rename(columns={'price':'nb_prod'})\n",
    "vente_sex_categ = vente_sex_categ[['nb_prod']]\n",
    "vente_sex_categ = vente_sex_categ.unstack('sex')\n",
    "vente_sex_categ = vente_sex_categ.rename(index={ 0 :'Categ 0', 1 :'Categ 1', 2 :'Categ 2'})\n",
    "vente_sex_categ"
   ]
  },
  {
   "cell_type": "code",
   "execution_count": null,
   "id": "48871f96",
   "metadata": {
    "scrolled": false
   },
   "outputs": [],
   "source": [
    "vente_sex_categ.plot.pie(subplots=True, colors = colors, figsize=(11, 11), autopct = \"%1.1f%%\")\n",
    "\n",
    "plt.subplot(1,2,1)\n",
    "plt.title('Achats des femmes')\n",
    "\n",
    "plt.subplot(1,2,2)\n",
    "plt.title('Achats des hommes')\n",
    "\n",
    "plt.show()"
   ]
  },
  {
   "cell_type": "code",
   "execution_count": null,
   "id": "0e11a50b",
   "metadata": {},
   "outputs": [],
   "source": [
    "# Le lien entre le genre d'un client et les catégories de livres achetés - Analyse QUALITATIF / QUALITATIF\n",
    "# Tableau de contingence\n",
    "\n",
    "X = \"categ\"\n",
    "Y = \"sex\"\n",
    "\n",
    "sex_categ = data[[X,Y]].pivot_table(index=X,columns=Y,aggfunc=len,margins=True,margins_name=\"Total\")\n",
    "sex_categ"
   ]
  },
  {
   "cell_type": "code",
   "execution_count": null,
   "id": "979f9f6b",
   "metadata": {},
   "outputs": [],
   "source": [
    "# HeatMap\n",
    "\n",
    "tx = sex_categ.loc[:,[\"Total\"]]\n",
    "ty = sex_categ.loc[[\"Total\"],:]\n",
    "n = len(data)\n",
    "indep = tx.dot(ty) / n\n",
    "\n",
    "c = sex_categ.fillna(0) # On remplace les valeurs nulles par 0\n",
    "measure = (c-indep)**2/indep\n",
    "xi_n = measure.sum().sum()\n",
    "table = measure/xi_n\n",
    "sns.heatmap(table.iloc[:-1,:-1],annot=c.iloc[:-1,:-1])\n",
    "plt.title(\"Tableau de contingence genre/catégorie coloré\")\n",
    "plt.show()"
   ]
  },
  {
   "cell_type": "code",
   "execution_count": null,
   "id": "810efba7",
   "metadata": {},
   "outputs": [],
   "source": [
    "# Le lien entre le genre d'un client et les catégories de livres achetés - Analyse QUALITATIF / QUALITATIF\n",
    "\n",
    "Khi2_obs, p_value, ddl, effectif_theorique = chi2_contingency(sex_categ)\n",
    "print(Khi2_obs)\n",
    "test_p_values(p_value)"
   ]
  },
  {
   "cell_type": "markdown",
   "id": "5aad847f",
   "metadata": {},
   "source": [
    "**Synthèse de la corrélation entre le genre et la catégorie**\n",
    "\n",
    "Dans un premier temps à la vue du premier graphique nous ne voyeont aucune différence entre le genre masculin et le genre féminin, ce qui nous laisse penser qu'il n'y a aucune corrélation.\n",
    "<br/>Les répartitions sont casiment identique !\n",
    "<br/>Mais en regardant le deuxième graphique on s'aperçoit d'une légère différence.<br/>\n",
    "<br/>Nous sommes face à 2 variables quantitatives !\n",
    "<br/>Cependant aprés avoir effectuer le test statistique Khi2, nous obtenons une p-value infèrieur à 0,05.\n",
    "<br/>Ce qui signifie que l'on rejète l'hypothèse nulle, selon laquelle les 2 variables sont indépendante, donc il **existe** bien une corrélation entre ces 2 variables !"
   ]
  },
  {
   "cell_type": "markdown",
   "id": "ea208de0",
   "metadata": {},
   "source": [
    "### *Corrélation de l'age et du montant total des achats*"
   ]
  },
  {
   "cell_type": "code",
   "execution_count": null,
   "id": "5eabcba7",
   "metadata": {},
   "outputs": [],
   "source": [
    "# Montant total des achats par clients\n",
    "\n",
    "Age_Panier = data.groupby(['client_id', 'age']).sum()\n",
    "#Age_Panier = data.groupby(['age']).sum()\n",
    "Age_Panier = Age_Panier.rename(columns={'price':'Montant Total'})\n",
    "Age_Panier = Age_Panier.reset_index()\n",
    "Age_Panier = Age_Panier[['age', 'Montant Total']]\n",
    "\n",
    "slope, intercept, r_value, p_value, std_err = stats.linregress(Age_Panier['age'], Age_Panier['Montant Total'])\n",
    "def predict(x):\n",
    "   return slope * x + intercept\n",
    "\n",
    "Age_Panier.plot.scatter(y= 'Montant Total',x= 'age', figsize=(15, 8))\n",
    "plt.title(\"Montant total des achats par clients en fonction de leurs âge\", size=20)\n",
    "plt.ylabel(\"Montant (en €)\", size=15)\n",
    "plt.xlabel(\"Age\", size=15)\n",
    "fitLine = predict(Age_Panier['age'])\n",
    "plt.plot(Age_Panier['age'], fitLine, c='r')\n",
    "plt.show()\n"
   ]
  },
  {
   "cell_type": "code",
   "execution_count": null,
   "id": "b0b8a750",
   "metadata": {},
   "outputs": [],
   "source": [
    "Age_Panier = Age_Panier.groupby(['age']).sum()\n",
    "Age_Panier = Age_Panier.reset_index()\n",
    "Age_Panier.plot.scatter(y= 'Montant Total',x= 'age', figsize=(15, 8))\n",
    "\n",
    "slope, intercept, r_value, p_value, std_err = stats.linregress(Age_Panier['age'], Age_Panier['Montant Total'])\n",
    "def predict(x):\n",
    "   return slope * x + intercept\n",
    "\n",
    "plt.title(\"Montant total des achats par âge\", size=20)\n",
    "plt.ylabel(\"Montant (en €)\", size=15)\n",
    "plt.xlabel(\"Age\", size=15)\n",
    "fitLine = predict(Age_Panier['age'])\n",
    "plt.plot(Age_Panier['age'], fitLine, c='r')\n",
    "plt.show()"
   ]
  },
  {
   "cell_type": "markdown",
   "id": "a98d846c",
   "metadata": {},
   "source": [
    "- Le montant des achats total des personnes agé de 19 ans dépasse les **600 000 €**\n",
    "- Tendance à l'augmentation entre 20 et 45 ans\n",
    "- Tendance à la baisse à partir de 45 ans\n",
    "\n",
    "- L'analyse de régression linéaire a montré une association négative entre les deux variables"
   ]
  },
  {
   "cell_type": "code",
   "execution_count": null,
   "id": "4b557193",
   "metadata": {},
   "outputs": [],
   "source": [
    "# Le lien entre l'âge des clients et le montant total des achats - Analyse QUANTITATIF / QUANTITATIF\n",
    "# Calcul du coefficient de Pearson\n",
    "\n",
    "corr, p = pearsonr(Age_Panier['age'], Age_Panier['Montant Total'])\n",
    "print('Pearsons correlation: %.3f' % corr)\n",
    "print(\"Nous voyons ici qu'il y'a une forte corrélation, car le coefficient est proche de -1 !\")\n",
    "test_p_values(p)"
   ]
  },
  {
   "cell_type": "markdown",
   "id": "97c901f6",
   "metadata": {},
   "source": [
    "**Synthèse de la corrélation entre l'age et le montant total des achats**\n",
    "\n",
    "Pour commencer, nous remarquons des valeurs extreme que nous écartons par la suite afin d'avoir un résultat le plus réaliste possible.\n",
    "<br/>En effet le test utiliser est un test paramétrique, donc sensible aux outliers.\n",
    "<br/>A première vue des graphique nous apercevons une corrélation !<br/>\n",
    "<br/>Nous sommes face à 2 variables quantitatives !\n",
    "<br/>Afin de vérifier cette corrélation, nous avons éffectuer un test statistique de Pearson, qui nous donne un coeficient de corrélation ainsi qu'une p-value.\n",
    "<br/>Nous obtenons un coéfficient de corrélation proche de -1, donc il y a corrélation entre ces 2 variables !\n",
    "<br/>La p-value obtenue est infèrieur à 0,05 ce qui confirme cette corrélation."
   ]
  },
  {
   "cell_type": "markdown",
   "id": "e03a278d",
   "metadata": {},
   "source": [
    "### *Corrélation de la tranche d'age et du montant total des achats*"
   ]
  },
  {
   "cell_type": "code",
   "execution_count": null,
   "id": "39a2e477",
   "metadata": {},
   "outputs": [],
   "source": [
    "Montant_Total_Client_Groupe = data.groupby(['client_id', 'Groupe']).sum()\n",
    "Montant_Total_Client_Groupe = Montant_Total_Client_Groupe.rename(columns={'price':'Montant Total'})\n",
    "Montant_Total_Client_Groupe = Montant_Total_Client_Groupe.reset_index()\n",
    "\n",
    "\n",
    "# Ordonner les groupes par ordre croissant\n",
    "order = ['- 30 ans', '30-50 ans', '50-70 ans', '+ 70 ans']\n",
    "Montant_Total_Client_Groupe = Montant_Total_Client_Groupe.reindex(Montant_Total_Client_Groupe['Groupe'].map(dict(zip(order, range(len(order))))).sort_values().index)\n",
    "\n",
    "X = \"Groupe\" # qualitative\n",
    "Y = \"Montant Total\" # quantitative\n",
    "modalites = Montant_Total_Client_Groupe[X].unique()\n",
    "groupes = []\n",
    "for m in modalites:\n",
    "    groupes.append(Montant_Total_Client_Groupe[Montant_Total_Client_Groupe[X]==m][Y])\n",
    "\n",
    "# Propriétés graphiques (pas très importantes)    \n",
    "medianprops = {'color':\"black\"}\n",
    "meanprops = {'marker':'o', 'markeredgecolor':'black',\n",
    "            'markerfacecolor':'firebrick'}\n",
    "\n",
    "\n",
    "plt.boxplot(groupes, labels=modalites, showfliers=False, medianprops=medianprops, \n",
    "            vert=True, patch_artist=True, showmeans=True, meanprops=meanprops)\n",
    "plt.title(\"Distribution du montant total des achat par groupe d'age\")\n",
    "plt.ylabel(\"Montant (en €)\")\n",
    "plt.xlabel(\"Groupe d'Age\")\n",
    "plt.show()"
   ]
  },
  {
   "cell_type": "code",
   "execution_count": null,
   "id": "b1d8a022",
   "metadata": {},
   "outputs": [],
   "source": [
    "Montant_Total_Client_Groupe"
   ]
  },
  {
   "cell_type": "code",
   "execution_count": null,
   "id": "8f80cc3d",
   "metadata": {},
   "outputs": [],
   "source": [
    "import scipy.stats as stats\n",
    "\n",
    "A = Montant_Total_Client_Groupe['Montant Total'][Montant_Total_Client_Groupe['Groupe'] == '- 30 ans']\n",
    "B = Montant_Total_Client_Groupe['Montant Total'][Montant_Total_Client_Groupe['Groupe'] == '30-50 ans']\n",
    "C = Montant_Total_Client_Groupe['Montant Total'][Montant_Total_Client_Groupe['Groupe'] == '50-70 ans']\n",
    "D = Montant_Total_Client_Groupe['Montant Total'][Montant_Total_Client_Groupe['Groupe'] == '+ 70 ans']\n",
    "\n",
    "#perform Bartlett's test \n",
    "stats.bartlett(A, B, C,D)"
   ]
  },
  {
   "cell_type": "code",
   "execution_count": null,
   "id": "0ad4b451",
   "metadata": {},
   "outputs": [],
   "source": [
    "# Le lien entre la tranche d'âge des clients et le montant total des achats - Analyse QUALITATIF / QUANTITATIF\n",
    "# Test Welch's ANOVA (paramétrique)\n",
    "\n",
    "pg.welch_anova(dv='Montant Total', between='Groupe', data=Montant_Total_Client_Groupe)"
   ]
  },
  {
   "cell_type": "markdown",
   "id": "a31130a9",
   "metadata": {},
   "source": [
    "**Synthèse de la corrélation entre la tranche d'age et le montant total des achats**\n",
    "\n",
    "On observe une moyenne ainsi qu'une variation asser différente entre les différents groupe d'age, ce qui nous insite à penser qu'il existe une corrélation non-linéaire entre les 2 variables !<br/>\n",
    "<br/>Nous somme face à une variable quantitative et une variable qualitative !\n",
    "<br/>Nous avons effectuer le teste statistique Welch's ANOVA, qui nous permet de calculer le rapport de corrélation ainsi que la p-value.\n",
    "<br/>On obtient un rapport de corrélation proche de 0, mais une p-value infèrieur à 0,05.\n",
    "<br/>Il existe donc bien une corrélation entre ces 2 variables !"
   ]
  },
  {
   "cell_type": "markdown",
   "id": "2e41b2e8",
   "metadata": {},
   "source": [
    "### *Corrélation entre l'age des clients et la fréquence d'achat*"
   ]
  },
  {
   "cell_type": "code",
   "execution_count": null,
   "id": "3a8537e3",
   "metadata": {},
   "outputs": [],
   "source": [
    "# Méthode n°1\n",
    "# Calcul du nombre d'achat moyen mensuelle par client pour chaque ages\n",
    "\n",
    "Freq_Age = data\n",
    "Freq_Age['year'] = pd.DatetimeIndex(Freq_Age['date']).year.astype(str)\n",
    "Freq_Age['month'] = pd.DatetimeIndex(Freq_Age['date']).month.astype(str)\n",
    "Freq_Age['Mois-Année'] = Freq_Age['month']+'-'+Freq_Age['year']\n",
    "Freq_Age = Freq_Age[['client_id','session_id','id_prod','age', 'Mois-Année']]\n",
    "Freq_Age = Freq_Age.groupby(['client_id','session_id','Mois-Année','age']).count()\n",
    "Freq_Age = Freq_Age.groupby(['client_id','age','Mois-Année']).count().reset_index()\n",
    "Freq_Age = round(Freq_Age.groupby(['client_id','age']).sum()/24).reset_index()\n",
    "\n",
    "#Freq_Age = round(Freq_Age.groupby('age').mean().reset_index(),2)\n",
    "\n",
    "slope, intercept, r_value, p_value, std_err = stats.linregress(Freq_Age['age'], Freq_Age['id_prod'])\n",
    "def predict(x):\n",
    "   return slope * x + intercept\n",
    "\n",
    "Freq_Age.plot.scatter(x='age', y='id_prod',figsize=(15, 8))\n",
    "plt.title(\"Nombre de produits mensuel acheté par client en fonction de l'âge\", size=20)\n",
    "plt.xlabel(\"Age\", size = 15)\n",
    "plt.ylabel(\"Nombre de produits\", size = 15)\n",
    "fitLine = predict(Freq_Age['age'])\n",
    "plt.plot(Freq_Age['age'], fitLine, c='r')\n",
    "plt.show()"
   ]
  },
  {
   "cell_type": "code",
   "execution_count": null,
   "id": "b36c737d",
   "metadata": {},
   "outputs": [],
   "source": [
    "# Le lien entre l'âge des clients et la fréquence des achats - Analyse QUALITATIF / QUANTITATIF\n",
    "# Test de Pearson\n",
    "\n",
    "# H0 = Les 2 variables ne sont pas corréler !\n",
    "# H1 = Les 2 variable sont corréler \n",
    "\n",
    "corr, p = pearsonr(Freq_Age['age'], Freq_Age['id_prod'])\n",
    "print('Pearsons correlation: %.3f' % corr)\n",
    "test_p_values(p)"
   ]
  },
  {
   "cell_type": "code",
   "execution_count": null,
   "id": "d1cbd69d",
   "metadata": {},
   "outputs": [],
   "source": [
    "# Méthode n°2\n",
    "# Calcul du nombre de produit acheter par client sur la pèriode étudier en fonction de l'age\n",
    "\n",
    "Freq_Achat_Age = data.groupby(['client_id','age']).nunique()\n",
    "Freq_Achat_Age = Freq_Achat_Age[['session_id']].reset_index()\n",
    "Freq_Achat_Age = Freq_Achat_Age.rename(columns={'session_id':'Nb_Achat'})\n",
    "\n",
    "slope, intercept, r_value, p_value, std_err = stats.linregress(Freq_Achat_Age['age'], Freq_Achat_Age['Nb_Achat'])\n",
    "def predict(x):\n",
    "   return slope * x + intercept\n",
    "\n",
    "Freq_Achat_Age.plot.scatter(x='age', y='Nb_Achat',figsize=(15, 8))\n",
    "plt.title(\"Nombre d'achat total par client en fonction de l'age \", size=20)\n",
    "plt.xlabel(\"Age\", size = 15)\n",
    "plt.ylabel(\"Nombre d'achats\", size = 15)\n",
    "fitLine = predict(Freq_Achat_Age['age'])\n",
    "plt.plot(Freq_Achat_Age['age'], fitLine, c='r')\n",
    "plt.show()"
   ]
  },
  {
   "cell_type": "code",
   "execution_count": null,
   "id": "5d9d77aa",
   "metadata": {},
   "outputs": [],
   "source": [
    "Freq_Achat_Moy_Age = round(Freq_Achat_Age.groupby('age').mean().reset_index())\n",
    "\n",
    "slope, intercept, r_value, p_value, std_err = stats.linregress(Freq_Achat_Moy_Age['age'], Freq_Achat_Moy_Age['Nb_Achat'])\n",
    "def predict(x):\n",
    "   return slope * x + intercept\n",
    "\n",
    "Freq_Achat_Moy_Age.plot.scatter(x='age', y='Nb_Achat',figsize=(15, 8))\n",
    "plt.title(\"Nombre d'achat moyen des clients par age\", size=20)\n",
    "plt.xlabel(\"Age\")\n",
    "plt.ylabel(\"Nombre d'achats\") \n",
    "fitLine = predict(Freq_Achat_Moy_Age['age'])\n",
    "plt.plot(Freq_Achat_Moy_Age['age'], fitLine, c='r')\n",
    "plt.show()"
   ]
  },
  {
   "cell_type": "markdown",
   "id": "5e32ba28",
   "metadata": {},
   "source": [
    "- L'analyse de régression linéaire montre une association positive entre les deux variables"
   ]
  },
  {
   "cell_type": "code",
   "execution_count": null,
   "id": "f1c0fac4",
   "metadata": {},
   "outputs": [],
   "source": [
    "# Le lien entre l'âge des clients et la fréquence des achats - Analyse QUALITATIF / QUANTITATIF\n",
    "# Test de Pearson\n",
    "\n",
    "# H0 = Les 2 variables ne sont pas corréler !\n",
    "# H1 = Les 2 variable sont corréler \n",
    "\n",
    "corr, p = pearsonr(Freq_Achat_Age['age'], Freq_Achat_Age['Nb_Achat'])\n",
    "print('Pearsons correlation: %.3f' % corr)\n",
    "test_p_values(p)"
   ]
  },
  {
   "cell_type": "markdown",
   "id": "67d4a7a0",
   "metadata": {},
   "source": [
    "**Synthède de la corrélation entre l'age et la fréquence d'achat**\n",
    "\n",
    "J'ai décider d'étudier cette corrélation en utilisant 2 méthode différentes !<br/>\n",
    "<br/><br/>\n",
    "*Méthode n°1 : Nombre de produits moyen acheté par mois*\n",
    "<br/><br/>\n",
    "Au vue du graphique, on appercois des différences asser légère en par rapport à l'age, ce qui laisse penser à une corrélation !\n",
    "<br/><br/>\n",
    "Nous sommes face à 2 variables quantitative !\n",
    "<br/>\n",
    "Pour vérifier cette théorie, on utilise le teste de Pearson.\n",
    "<br/>\n",
    "Grace à ce teste nous comprenons qu'il y a une corrélation entre les 2 variables, car le coéfficient de corrélation obtenue est proche de 0.160 mais la p-value est infèrieur à 0.05 !\n",
    "<br/><br/>\n",
    "*Méthode n°2 : Nombre d'achat total*\n",
    "<br/><br/>\n",
    "Pour commencer on s'appercoit qu'il y a 4 valeurs extreme que l'on écarte de l'étude, afin d'avoir par la suite un résultat clair au teste statistique.\n",
    "<br/>\n",
    "On s'appersoit grace aux graphique que nous avons une légère tendence du nombre d'achat en fonction de l'age. Donc il y a probablement une corrélation.\n",
    "<br/><br/>\n",
    "Nous sommes face à 2 variables quantitatives !\n",
    "<br/>\n",
    "Avec le teste de Pearson, nous allons pouvoir savoir si il y a en effet une corrélation.\n",
    "<br/>\n",
    "Les resultats nous apprènent qu'il y a effectivement une légère corrélation entre les 2 variables, nous constatons cele grace à la p-value qui est infèrieur à 0.05, malgré le coéfficient de corrélation proche de 0 !"
   ]
  },
  {
   "cell_type": "markdown",
   "id": "05be8fe5",
   "metadata": {},
   "source": [
    "### *Corrélation entre la tranche d'age des clients et la fréquence d'achat*"
   ]
  },
  {
   "cell_type": "code",
   "execution_count": null,
   "id": "12b4cb91",
   "metadata": {},
   "outputs": [],
   "source": [
    "# Méthode n°1\n",
    "# Etude de la frequence d'achat grace au nombre moyen de produits acheter par mois sur la durée total étudier\n",
    "\n",
    "Freq_Groupe_Age = data\n",
    "Freq_Groupe_Age['year'] = pd.DatetimeIndex(Freq_Groupe_Age['date']).year.astype(str)\n",
    "Freq_Groupe_Age['month'] = pd.DatetimeIndex(Freq_Groupe_Age['date']).month.astype(str)\n",
    "Freq_Groupe_Age['Mois-Année'] = Freq_Groupe_Age['month']+'-'+Freq_Groupe_Age['year']\n",
    "Freq_Groupe_Age = Freq_Groupe_Age[['client_id','session_id','id_prod','Groupe', 'Mois-Année']]\n",
    "Freq_Groupe_Age= Freq_Groupe_Age.groupby(['client_id','session_id','Mois-Année','Groupe']).count()\n",
    "Freq_Groupe_Age = Freq_Groupe_Age.groupby(['client_id','Groupe','Mois-Année']).count().reset_index()\n",
    "Freq_Groupe_Age = round(Freq_Groupe_Age.groupby(['client_id','Groupe']).sum()/24).reset_index()\n",
    "\n",
    "# Ordonner les groupes par ordre croissant\n",
    "order = ['- 30 ans', '30-50 ans', '50-70 ans', '+ 70 ans']\n",
    "Freq_Groupe_Age = Freq_Groupe_Age.reindex(Freq_Groupe_Age['Groupe'].map(dict(zip(order, range(len(order))))).sort_values().index)\n",
    "\n",
    "X = \"Groupe\" # qualitative\n",
    "Y = \"id_prod\" # quantitative\n",
    "modalites = Freq_Groupe_Age[X].unique()\n",
    "groupes = []\n",
    "for m in modalites:\n",
    "    groupes.append(Freq_Groupe_Age[Freq_Groupe_Age[X]==m][Y])\n",
    "\n",
    "# Propriétés graphiques (pas très importantes)    \n",
    "medianprops = {'color':\"black\"}\n",
    "meanprops = {'marker':'o', 'markeredgecolor':'black',\n",
    "            'markerfacecolor':'firebrick'}\n",
    "    \n",
    "plt.boxplot(groupes, labels=modalites, showfliers=False, medianprops=medianprops, \n",
    "            vert=True, patch_artist=True, showmeans=True, meanprops=meanprops)\n",
    "plt.title(\"Distribution du nombre de produits mensuels acheter par groupe d'âge\")\n",
    "plt.ylabel(\"Nombre de produits\")\n",
    "plt.xlabel(\"Groupe d'Age\")\n",
    "plt.show()"
   ]
  },
  {
   "cell_type": "code",
   "execution_count": null,
   "id": "756a79cd",
   "metadata": {},
   "outputs": [],
   "source": [
    "# Le lien entre la tranche d'âge des clients et la fréquence des achats - Analyse QUALITATIF / QUANTITATIF\n",
    "# Test Welch's ANOVA (paramétrique)\n",
    "\n",
    "pg.welch_anova(dv='id_prod', between='Groupe', data=Freq_Groupe_Age)"
   ]
  },
  {
   "cell_type": "code",
   "execution_count": null,
   "id": "4e3ccbf5",
   "metadata": {},
   "outputs": [],
   "source": [
    "# Méthode n°2\n",
    "# Etude de la frequence d'achat grace au nombre d'achat sur la durée total étudier\n",
    "\n",
    "Freq_Achat_Groupe_Age = data.groupby(['client_id','Groupe']).nunique()\n",
    "Freq_Achat_Groupe_Age = Freq_Achat_Groupe_Age[['session_id']].reset_index()\n",
    "Freq_Achat_Groupe_Age = Freq_Achat_Groupe_Age.rename(columns={'session_id':'Nb_Achat'})\n",
    "# On enlève les outliers\n",
    "Freq_Achat_Groupe_Age = Freq_Achat_Groupe_Age[Freq_Achat_Groupe_Age['Nb_Achat'] < 2000]\n",
    "\n",
    "# Ordonner les groupes par ordre croissant\n",
    "order = ['- 30 ans', '30-50 ans', '50-70 ans', '+ 70 ans']\n",
    "Freq_Achat_Groupe_Age = Freq_Achat_Groupe_Age.reindex(Freq_Achat_Groupe_Age['Groupe'].map(dict(zip(order, range(len(order))))).sort_values().index)\n",
    "\n",
    "X = \"Groupe\" # qualitative\n",
    "Y = \"Nb_Achat\" # quantitative\n",
    "modalites = Freq_Achat_Groupe_Age[X].unique()\n",
    "groupes = []\n",
    "for m in modalites:\n",
    "    groupes.append(Freq_Achat_Groupe_Age[Freq_Achat_Groupe_Age[X]==m][Y])\n",
    "\n",
    "# Propriétés graphiques (pas très importantes)    \n",
    "medianprops = {'color':\"black\"}\n",
    "meanprops = {'marker':'o', 'markeredgecolor':'black',\n",
    "            'markerfacecolor':'firebrick'}\n",
    "    \n",
    "plt.boxplot(groupes, labels=modalites, showfliers=False, medianprops=medianprops, \n",
    "            vert=True, patch_artist=True, showmeans=True, meanprops=meanprops)\n",
    "plt.title(\"Distribution du nombre d'achat total par groupe d'age\")\n",
    "plt.ylabel(\"Nombre d'achats\")\n",
    "plt.xlabel(\"Groupe d'Age\")\n",
    "plt.show()"
   ]
  },
  {
   "cell_type": "code",
   "execution_count": null,
   "id": "0728154f",
   "metadata": {},
   "outputs": [],
   "source": [
    "# Le lien entre la tranche d'âge des clients et la fréquence des achats - Analyse QUALITATIF / QUANTITATIF\n",
    "# Test Welch's ANOVA (paramétrique)\n",
    "\n",
    "pg.welch_anova(dv='Nb_Achat', between='Groupe', data=Freq_Achat_Groupe_Age)"
   ]
  },
  {
   "cell_type": "markdown",
   "id": "247d7cc9",
   "metadata": {},
   "source": [
    "**Synthède de la corrélation entre le groupe d'age et la fréquence d'achat**\n",
    "\n",
    "On réalise les 2 même methodes que précedement !\n",
    "<br/><br/>\n",
    "*Méthode n°1 : Nombre de produits moyen acheté par mois*\n",
    "<br/><br/>\n",
    "On vois différentes variation et différentes moyenne en fonction du groupe d'age, ce qui nous laisse penser à une corrélation entre les 2 variables !\n",
    "<br/><br/>\n",
    "Nous sommes face à 1 variable quantitative et 1 variable qualitative !\n",
    "<br/>\n",
    "Le test Welch's ANOVA nous donne un rapport de corrélation proche de 0 mais une p-value infèrieur à 0,05.\n",
    "<br/>\n",
    "Donc nous avons bien une corrélation entre ces 2 variables !\n",
    "<br/><br/>\n",
    "*Méthode n°2 : Nombre d'achat total*\n",
    "<br/><br/>\n",
    "On vois différentes variation et différentes moyenne en fonction du groupe d'age, ce qui nous laisse penser à une corrélation entre les 2 variables !\n",
    "<br/><br/>\n",
    "Nous sommes face à 1 variable quantitative et 1 variable qualitative !\n",
    "<br/>\n",
    "Le test Welch's ANOVA nous donne un rapport de corrélation proche de 0 mais une p-value infèrieur à 0,05.\n",
    "<br/>\n",
    "Donc nous avons bien une corrélation entre ces 2 variables !"
   ]
  },
  {
   "cell_type": "markdown",
   "id": "8e773436",
   "metadata": {},
   "source": [
    "### *Corrélation entre l'age des clients et la taille du panier moyen*"
   ]
  },
  {
   "cell_type": "code",
   "execution_count": null,
   "id": "607d5aa1",
   "metadata": {
    "scrolled": false
   },
   "outputs": [],
   "source": [
    "Age_Taille_Panier_Moy = data.groupby(['age', 'session_id']).count()\n",
    "Age_Taille_Panier_Moy = round(Age_Taille_Panier_Moy.groupby('age').mean())\n",
    "Age_Taille_Panier_Moy = Age_Taille_Panier_Moy.rename(columns = {'id_prod':'nb_prod'})\n",
    "Age_Taille_Panier_Moy = Age_Taille_Panier_Moy[['nb_prod']]\n",
    "Age_Taille_Panier_Moy = Age_Taille_Panier_Moy.reset_index()\n",
    "\n",
    "slope, intercept, r_value, p_value, std_err = stats.linregress(Age_Taille_Panier_Moy['age'], Age_Taille_Panier_Moy['nb_prod'])\n",
    "def predict(x):\n",
    "   return slope * x + intercept\n",
    "\n",
    "Age_Taille_Panier_Moy.plot.scatter(x= 'age', y= 'nb_prod', figsize=(15, 8))\n",
    "plt.title(\"Taille du panier moyen des clients par age\", size=20)\n",
    "plt.ylabel(\"Nombre de produits\", size=15)\n",
    "plt.xlabel(\"Age\", size=15)\n",
    "fitLine = predict(Age_Taille_Panier_Moy['age'])\n",
    "plt.plot(Age_Taille_Panier_Moy['age'], fitLine, c='r')\n",
    "plt.show()"
   ]
  },
  {
   "cell_type": "markdown",
   "id": "ff4fb64a",
   "metadata": {},
   "source": [
    "- L'analyse de régression linéaire montre une association négative entre les deux variables"
   ]
  },
  {
   "cell_type": "code",
   "execution_count": null,
   "id": "8af73046",
   "metadata": {},
   "outputs": [],
   "source": [
    "# Le lien entre l'âge des clients et la taille du panier moyen - Analyse QUANTITATIF / QUANTITATIF\n",
    "# Calcul du coefficient de Pearson\n",
    "\n",
    "corr, p = pearsonr(Age_Taille_Panier_Moy['age'], Age_Taille_Panier_Moy['nb_prod'])\n",
    "print('Pearsons correlation: %.3f' % corr)\n",
    "print(\"Nous voyons ici qu'il y'a une importante corrélation !\")\n",
    "print(\"p-value : \",p)"
   ]
  },
  {
   "cell_type": "markdown",
   "id": "44a2258b",
   "metadata": {},
   "source": [
    "**Synthède de la corrélation entre l'age et la taille moyen du panier**\n",
    "\n",
    "Sur le graphique on peut voir une différence entre les ages, ce qui nous laisse penser à une corrélation.\n",
    "<br/><br/>\n",
    "Nous sommes face à 2 variables quantitative !\n",
    "<br/>\n",
    "Grace aux resultats du test de Pearson nous obtenons un coéfficient de corrélation proche de -1, donc nous avons une corrélation.\n",
    "<br/>\n",
    "De plus nous avons une p-value infèrieur à 0.05 qui vient confirmé cette corrélation !"
   ]
  },
  {
   "cell_type": "markdown",
   "id": "3a3b0b16",
   "metadata": {},
   "source": [
    "### *Corrélation entre l'age des clients et le montant du panier moyen*"
   ]
  },
  {
   "cell_type": "code",
   "execution_count": null,
   "id": "eef8602d",
   "metadata": {},
   "outputs": [],
   "source": [
    "slope, intercept, r_value, p_value, std_err = stats.linregress(Age_Panier_Moy['age'], Age_Panier_Moy['Prix (en €)'])\n",
    "def predict(x):\n",
    "   return slope * x + intercept\n",
    "\n",
    "\n",
    "Age_Panier_Moy.plot.scatter(y= 'Prix (en €)',x= 'age', figsize=(15, 8))\n",
    "plt.title(\"Montant du panier moyen des clients par age\", size=20)\n",
    "plt.ylabel(\"Montant (en €)\", size=15)\n",
    "plt.xlabel(\"Age\", size=15)\n",
    "fitLine = predict(Age_Panier_Moy['age'])\n",
    "plt.plot(Age_Panier_Moy['age'], fitLine, c='r')\n",
    "plt.show()"
   ]
  },
  {
   "cell_type": "markdown",
   "id": "e17aa022",
   "metadata": {},
   "source": [
    "- L'analyse de régression linéaire montre une association négative entre les deux variables"
   ]
  },
  {
   "cell_type": "code",
   "execution_count": null,
   "id": "c28c8f9a",
   "metadata": {},
   "outputs": [],
   "source": [
    "# Le lien entre l'âge des clients et le montant du panier moyen - Analyse QUANTITATIF / QUANTITATIF\n",
    "# Calcul du coefficient de Pearson\n",
    "\n",
    "corr, p = pearsonr(Age_Panier_Moy['age'], Age_Panier_Moy['Prix (en €)'])\n",
    "print('Pearsons correlation: %.3f' % corr)\n",
    "print(\"Nous voyons ici qu'il y'a une importante corrélation !\")\n",
    "print(\"p-value : \",p)"
   ]
  },
  {
   "cell_type": "markdown",
   "id": "2fd2fdc9",
   "metadata": {},
   "source": [
    "**Synthède de la corrélation entre l'age et le montant moyen du panier**\n",
    "\n",
    "Sur le graphique on peut voir une différence entre les ages, ce qui nous laisse penser à une corrélation.\n",
    "<br/><br/>\n",
    "Nous sommes face à 2 variables quantitative !\n",
    "<br/>\n",
    "Grace aux resultats du test de Pearson nous obtenons un coéfficient de corrélation proche de -1, donc nous avons une corrélation.\n",
    "<br/>\n",
    "De plus nous avons une p-value infèrieur à 0.05 qui vient confirmé cette corrélation !"
   ]
  },
  {
   "cell_type": "markdown",
   "id": "78536628",
   "metadata": {},
   "source": [
    "### *Corrélation entre la tranche d'age des clients et la taille moyen du panier*"
   ]
  },
  {
   "cell_type": "code",
   "execution_count": null,
   "id": "bc771a73",
   "metadata": {},
   "outputs": [],
   "source": [
    "nbprod = data.groupby(['Groupe', 'session_id']).count()\n",
    "nbprod = nbprod[['id_prod']].reset_index()\n",
    "\n",
    "\n",
    "# Ordonner les groupes par ordre croissant\n",
    "order = ['- 30 ans', '30-50 ans', '50-70 ans', '+ 70 ans']\n",
    "nbprod = nbprod.reindex(nbprod['Groupe'].map(dict(zip(order, range(len(order))))).sort_values().index)\n",
    "\n",
    "X = \"Groupe\" # qualitative\n",
    "Y = \"id_prod\"# quantitative\n",
    "\n",
    "modalites = nbprod[X].unique()\n",
    "groupes = []\n",
    "for m in modalites:\n",
    "    groupes.append(nbprod[nbprod[X]==m][Y])\n",
    "\n",
    "# Propriétés graphiques (pas très importantes)    \n",
    "medianprops = {'color':\"black\"}\n",
    "meanprops = {'marker':'o', 'markeredgecolor':'black',\n",
    "            'markerfacecolor':'firebrick'}\n",
    "    \n",
    "plt.boxplot(groupes, labels=modalites, showfliers=False, medianprops=medianprops, \n",
    "            vert=True, patch_artist=True, showmeans=True, meanprops=meanprops)\n",
    "plt.title(\"Distribution de la taille du panier moyen par groupe d'age\")\n",
    "plt.ylabel(\"Nombre de produits\")\n",
    "plt.xlabel(\"Groupe d'Age\")\n",
    "plt.show()"
   ]
  },
  {
   "cell_type": "code",
   "execution_count": null,
   "id": "ecbb949d",
   "metadata": {},
   "outputs": [],
   "source": [
    "# Le lien entre la tranche d'âge des clients et la taille du panier moyen - Analyse QUANTITATIF / QUANTITATIF\n",
    "# Test Welch's ANOVA (paramétrique)\n",
    "\n",
    "pg.welch_anova(dv='id_prod', between='Groupe', data=nbprod)"
   ]
  },
  {
   "cell_type": "markdown",
   "id": "ad147938",
   "metadata": {},
   "source": [
    "**Synthède de la corrélation entre le groupe d'age et la taille moyen du panier**\n",
    "\n",
    "Sur le graphique on s'appercois qu'il y a 3 groupe dont la variation est trés similaire, cependant toutes les moyennes sont différentes.\n",
    "<br/>\n",
    "On pourrais donc s'attendre à une légère corrélation !\n",
    "<br/><br/>\n",
    "Nous sommes face à 1 variable quantitative et 1 variable qualitative !\n",
    "<br/>\n",
    "Le test Welch's ANOVA nous confirme cette légère corrélation grace à un p-value infèrieur à 0.05, malgré le rapport de corrélation proche de 0."
   ]
  },
  {
   "cell_type": "markdown",
   "id": "5fbe246c",
   "metadata": {},
   "source": [
    "### *Corrélation entre la tranche d'age des clients et le montant moyen du panier*"
   ]
  },
  {
   "cell_type": "code",
   "execution_count": null,
   "id": "a215e0a4",
   "metadata": {},
   "outputs": [],
   "source": [
    "Panier_Moyen_Client_Groupe = data.groupby(['Groupe','session_id']).sum().reset_index()\n",
    "Panier_Moyen_Client_Groupe = Panier_Moyen_Client_Groupe[['Groupe','session_id','price']]\n",
    "\n",
    "# Ordonner les groupes par ordre croissant\n",
    "order = ['- 30 ans', '30-50 ans', '50-70 ans', '+ 70 ans']\n",
    "Panier_Moyen_Client_Groupe = Panier_Moyen_Client_Groupe.reindex(Panier_Moyen_Client_Groupe['Groupe'].map(dict(zip(order, range(len(order))))).sort_values().index)\n",
    "\n",
    "X = \"Groupe\" # qualitative\n",
    "Y = \"price\" # quantitative\n",
    "modalites = Panier_Moyen_Client_Groupe[X].unique()\n",
    "groupes = []\n",
    "for m in modalites:\n",
    "    groupes.append(Panier_Moyen_Client_Groupe[Panier_Moyen_Client_Groupe[X]==m][Y])\n",
    "\n",
    "# Propriétés graphiques (pas très importantes)    \n",
    "medianprops = {'color':\"black\"}\n",
    "meanprops = {'marker':'o', 'markeredgecolor':'black',\n",
    "            'markerfacecolor':'firebrick'}\n",
    "    \n",
    "plt.boxplot(groupes, labels=modalites, showfliers=False, medianprops=medianprops, \n",
    "            vert=True, patch_artist=True, showmeans=True, meanprops=meanprops)\n",
    "plt.title(\"Distribution du montant moyen du panier par groupe d'age\")\n",
    "plt.ylabel(\"Montant (en €)\")\n",
    "plt.xlabel(\"Groupe d'Age\")\n",
    "plt.show()"
   ]
  },
  {
   "cell_type": "code",
   "execution_count": null,
   "id": "e8a704e6",
   "metadata": {},
   "outputs": [],
   "source": [
    "# Le lien entre la tranche d'âge des clients et le montant du panier moyen - Analyse QUALITATIF / QUANTITATIF\n",
    "# Test Welch's ANOVA (paramétrique)\n",
    "\n",
    "pg.welch_anova(dv='price', between='Groupe', data=Panier_Moyen_Client_Groupe)"
   ]
  },
  {
   "cell_type": "markdown",
   "id": "2b680a49",
   "metadata": {},
   "source": [
    "**Synthède de la corrélation entre le groupe d'age et le montant moyen du panier**\n",
    "\n",
    "On appercoit directement des différences significative sur les 3 groupes, avec une moyenne et une variation différente.\n",
    "<br/>\n",
    "Donc nous pouvons penser qu'il y'a une forte corrélation entre les 2 variables !\n",
    "<br/><br/>\n",
    "Nous sommes face à 1 variable quantitative et 1 variable qualitative !\n",
    "<br/>\n",
    "Le test Welch's ANOVA nous confirme cette corrélation grace à un p-value infèrieur à 0.05, malgré le rapport de corrélation proche de 0.\n",
    "<br/>\n",
    "Alors nous n'avons pas une forte corrélation !"
   ]
  },
  {
   "cell_type": "markdown",
   "id": "24609d22",
   "metadata": {},
   "source": [
    "### *Corrélation entre l'age des clients et les categories de livres achetés*"
   ]
  },
  {
   "cell_type": "code",
   "execution_count": null,
   "id": "930437b5",
   "metadata": {},
   "outputs": [],
   "source": [
    "X = \"categ\" # qualitative\n",
    "Y = \"age\" # quantitative\n",
    "modalites = data[X].unique()\n",
    "groupes = []\n",
    "for m in modalites:\n",
    "    groupes.append(data[data[X]==m][Y])\n",
    "\n",
    "# Propriétés graphiques (pas très importantes)    \n",
    "medianprops = {'color':\"black\"}\n",
    "meanprops = {'marker':'o', 'markeredgecolor':'black',\n",
    "            'markerfacecolor':'firebrick'}\n",
    "    \n",
    "plt.boxplot(groupes, labels=modalites, showfliers=False, medianprops=medianprops, \n",
    "            vert=True, patch_artist=True, showmeans=True, meanprops=meanprops)\n",
    "plt.title(\"Distribution des ages par catégorie\")\n",
    "plt.ylabel(\"Age\")\n",
    "plt.xlabel(\"Catégories\")\n",
    "plt.show()"
   ]
  },
  {
   "cell_type": "code",
   "execution_count": null,
   "id": "3be6df96",
   "metadata": {},
   "outputs": [],
   "source": [
    "# Le lien entre la tranche d'âge des clients et le montant du panier moyen - Analyse QUALITATIF / QUANTITATIF\n",
    "# Test Welch's ANOVA (paramétrique)\n",
    "\n",
    "pg.welch_anova(dv='age', between='categ', data=data)"
   ]
  },
  {
   "cell_type": "markdown",
   "id": "adcd545a",
   "metadata": {},
   "source": [
    "**Synthède de la corrélation entre l'age et les catégories de livres achetés**\n",
    "\n",
    "En observant le premier graphique on s'appercoit que chaque catégorie a sa tendance en fonction de l'age, et donc on en conclue qu'il y aurait potentielement une corrélation entre les 2 variables.\n",
    "<br/><br/>\n",
    "Nous somme face à 2 variable quantitative !\n",
    "<br/>\n",
    "Aprés avoir effectuer le teste de Pearson pour le 3 catégorie de livres, on obtient les mêmes résultats.\n",
    "<br/>\n",
    "Les coéfficients de corrélation sont asser proche de -1 et on a une p-value infèrieur à 0,05.\n",
    "<br/>\n",
    "Ce qui nous confirme la corrélation entre les 2 variables !"
   ]
  },
  {
   "cell_type": "markdown",
   "id": "a1f8e612",
   "metadata": {},
   "source": [
    "### *Corrélation entre le groupe d'age des clients et les categories de livres achetés*"
   ]
  },
  {
   "cell_type": "code",
   "execution_count": null,
   "id": "3e370779",
   "metadata": {},
   "outputs": [],
   "source": [
    "# Le lien entre le groupe d'age des clients et les categories de livres achetés - Analyse QUALITATIF / QUALITATIF\n",
    "\n",
    "X = \"categ\"\n",
    "Y = \"Groupe\"\n",
    "\n",
    "groupe_categ = data[[X,Y]].pivot_table(index=X,columns=Y,aggfunc=len,margins=True,margins_name=\"Total\")\n",
    "groupe_categ\n",
    "\n",
    "groupe_categ"
   ]
  },
  {
   "cell_type": "code",
   "execution_count": null,
   "id": "9081a123",
   "metadata": {},
   "outputs": [],
   "source": [
    "tx = groupe_categ.loc[:,[\"Total\"]]\n",
    "ty = groupe_categ.loc[[\"Total\"],:]\n",
    "n = len(data)\n",
    "indep = tx.dot(ty) / n\n",
    "\n",
    "c = groupe_categ.fillna(0) # On remplace les valeurs nulles par 0\n",
    "measure = (c-indep)**2/indep\n",
    "xi_n = measure.sum().sum()\n",
    "table = measure/xi_n\n",
    "sns.heatmap(table.iloc[:-1,:-1],annot=c.iloc[:-1,:-1])\n",
    "plt.show()"
   ]
  },
  {
   "cell_type": "code",
   "execution_count": null,
   "id": "bc2ad55d",
   "metadata": {},
   "outputs": [],
   "source": [
    "# Le lien entre  le groupe d'age des clients et les categories de livres achetés - Analyse QUALITATIF / QUALITATIF\n",
    "\n",
    "Khi2_obs, p_value, ddl, effectif_theorique = chi2_contingency(groupe_categ)\n",
    "print(Khi2_obs)\n",
    "test_p_values(p_value)"
   ]
  },
  {
   "cell_type": "markdown",
   "id": "6e096a4d",
   "metadata": {},
   "source": [
    "**Synthède de la corrélation entre l'age et les catégories de livres achetés**\n",
    "\n",
    "Dans un premier temps en regardant le tableau de contingence on s'appercois qu'il y a des différence en fonction du groupe d'age.\n",
    "<br/>\n",
    "Ensuite en regardant le graphique on confirme cette différence, qui nous laisse penser à une corrélation.\n",
    "<br/><br/>\n",
    "Nous sommes face à 2 variable qualitative !\n",
    "<br/>\n",
    "Le teste de Chi-2 nous confirme une corrélation des variables, grace à une p-value infèrieur à 0,05 !"
   ]
  },
  {
   "cell_type": "code",
   "execution_count": null,
   "id": "b763317d",
   "metadata": {},
   "outputs": [],
   "source": []
  },
  {
   "cell_type": "code",
   "execution_count": null,
   "id": "286ce6f7",
   "metadata": {},
   "outputs": [],
   "source": []
  },
  {
   "cell_type": "code",
   "execution_count": null,
   "id": "cc59845e",
   "metadata": {},
   "outputs": [],
   "source": []
  },
  {
   "cell_type": "code",
   "execution_count": null,
   "id": "b264d7e7",
   "metadata": {},
   "outputs": [],
   "source": []
  }
 ],
 "metadata": {
  "kernelspec": {
   "display_name": "Python 3 (ipykernel)",
   "language": "python",
   "name": "python3"
  },
  "language_info": {
   "codemirror_mode": {
    "name": "ipython",
    "version": 3
   },
   "file_extension": ".py",
   "mimetype": "text/x-python",
   "name": "python",
   "nbconvert_exporter": "python",
   "pygments_lexer": "ipython3",
   "version": "3.9.13"
  }
 },
 "nbformat": 4,
 "nbformat_minor": 5
}
